{
  "nbformat": 4,
  "nbformat_minor": 0,
  "metadata": {
    "colab": {
      "provenance": [],
      "authorship_tag": "ABX9TyMdjNfslRw/if8AEb25tMMQ",
      "include_colab_link": true
    },
    "kernelspec": {
      "name": "python3",
      "display_name": "Python 3"
    },
    "language_info": {
      "name": "python"
    }
  },
  "cells": [
    {
      "cell_type": "markdown",
      "metadata": {
        "id": "view-in-github",
        "colab_type": "text"
      },
      "source": [
        "<a href=\"https://colab.research.google.com/github/LataData/Assignments/blob/main/dsassignment5.ipynb\" target=\"_parent\"><img src=\"https://colab.research.google.com/assets/colab-badge.svg\" alt=\"Open In Colab\"/></a>"
      ]
    },
    {
      "cell_type": "markdown",
      "source": [
        "Convert 1D Array Into 2D Array\n",
        "\n",
        "You are given a **0-indexed** 1-dimensional (1D) integer array original, and two integers, m and n. You are tasked with creating a 2-dimensional (2D) array with  m rows and n columns using **all** the elements from original."
      ],
      "metadata": {
        "id": "KUNDYr65g76p"
      }
    },
    {
      "cell_type": "code",
      "source": [
        "def onedtotwod(a,m,n):\n",
        "  new=[[0 for _ in range(n)]for _ in range(m)]\n",
        "  i=0\n",
        "  for k in range(m):\n",
        "    for j in range(n):\n",
        "      new[k][j]=a[i]\n",
        "      i+=1\n",
        "  return new\n",
        "a = [1,2,3,4,5,6]\n",
        "m = 3\n",
        "n = 2\n",
        "print(onedtotwod(a,m,n))"
      ],
      "metadata": {
        "colab": {
          "base_uri": "https://localhost:8080/"
        },
        "id": "Q7OP8Bs0hLj9",
        "outputId": "28fe10c8-a9c9-417e-b57b-fab867d03a5d"
      },
      "execution_count": 6,
      "outputs": [
        {
          "output_type": "stream",
          "name": "stdout",
          "text": [
            "[[1, 2], [3, 4], [5, 6]]\n"
          ]
        }
      ]
    },
    {
      "cell_type": "markdown",
      "source": [
        "You have n coins and you want to build a staircase with these coins. The staircase consists of k rows where the ith row has exactly i coins. The last row of the staircase **may be** incomplete.\n",
        "\n",
        "Given the integer n, return *the number of **complete rows** of the staircase you will build*."
      ],
      "metadata": {
        "id": "bmo7lqd9mDiI"
      }
    },
    {
      "cell_type": "code",
      "source": [
        "def completestaircase(n):\n",
        "  if n==1:\n",
        "    return 1\n",
        "  for i in range(n):\n",
        "    if (i*(i+1))/2 > n:\n",
        "      return i-1\n",
        "    if (i*(i+1))/2 == n:\n",
        "      return i\n",
        "n=50\n",
        "print(completestaircase(n))\n",
        "    "
      ],
      "metadata": {
        "colab": {
          "base_uri": "https://localhost:8080/"
        },
        "id": "abJu5XbuhiE0",
        "outputId": "237ef9c9-e8d0-41eb-9754-ab45a2d27bde"
      },
      "execution_count": 8,
      "outputs": [
        {
          "output_type": "stream",
          "name": "stdout",
          "text": [
            "9\n"
          ]
        }
      ]
    },
    {
      "cell_type": "markdown",
      "source": [
        "Given an integer array nums sorted in **non-decreasing** order, return *an array of **the squares of each number** sorted in non-decreasing order*.\n",
        "\n",
        "**Example 1:**\n",
        "\n",
        "**Input:** nums = [-4,-1,0,3,10]\n",
        "\n",
        "**Output:** [0,1,9,16,100]\n",
        "\n",
        "**Explanation:** After squaring, the array becomes [16,1,0,9,100].\n",
        "\n",
        "After sorting, it becomes [0,1,9,16,100]."
      ],
      "metadata": {
        "id": "9I-2LGGKnLqa"
      }
    },
    {
      "cell_type": "code",
      "source": [
        "def sorting(a):\n",
        " i=0\n",
        " while a[i]!=0:\n",
        "  i+=1  \n",
        " if i==0:\n",
        "  return [l*l for l in a]\n",
        " j=i\n",
        " new=[0 for _ in range(len(a))]\n",
        " m=0\n",
        " for k in range(j,len(a)):\n",
        "  \n",
        "  new[m]=a[k]\n",
        "  #print(m,new[m],\"new\")\n",
        "  m+=1\n",
        " \n",
        " #print(m)\n",
        " for k in reversed(range(0,j)):\n",
        "  new[m]=a[k]\n",
        "  m+=1\n",
        "  #print(m,new[m],a[k],\"new\")\n",
        " \n",
        " return [l*l for l in new]\n",
        "nums = [-4,-1,0,3,10]\n",
        "a=(sorting(nums))\n",
        "#print(a)\n",
        "for i in range(0,len(a)-1):\n",
        "  \n",
        "  if a[i]>a[i+1]:\n",
        "    temp=a[i]\n",
        "    a[i]=a[i+1]\n",
        "    a[i+1]=temp\n",
        "print(a)\n",
        "\n",
        "\n",
        "              "
      ],
      "metadata": {
        "colab": {
          "base_uri": "https://localhost:8080/"
        },
        "id": "LBAF2_Vrm3Su",
        "outputId": "b030ed84-1a30-4e2a-94ae-3cd85a065754"
      },
      "execution_count": 39,
      "outputs": [
        {
          "output_type": "stream",
          "name": "stdout",
          "text": [
            "[0, 9, 1, 16, 100]\n"
          ]
        }
      ]
    },
    {
      "cell_type": "markdown",
      "source": [
        "Given two **0-indexed** integer arrays nums1 and nums2, return *a list* answer *of size* 2 *where:*\n",
        "\n",
        "- answer[0] *is a list of all **distinct** integers in* nums1 *which are **not** present in* nums2*.*\n",
        "- answer[1] *is a list of all **distinct** integers in* nums2 *which are **not** present in* nums1."
      ],
      "metadata": {
        "id": "0pZalr297hYq"
      }
    },
    {
      "cell_type": "code",
      "source": [
        "def find(nums1,nums2):\n",
        "  a=set(nums1)\n",
        "  b=set(nums2)\n",
        "  c=a.difference(b)\n",
        "  d=b.difference(a)\n",
        "  answer=[]\n",
        "  answer.append(list(c))\n",
        "  answer.append(list(d))\n",
        "  return answer\n",
        "nums1 = [1,2,3]\n",
        "nums2 = [2,4,6]\n",
        "print(find(nums1,nums2))\n"
      ],
      "metadata": {
        "colab": {
          "base_uri": "https://localhost:8080/"
        },
        "id": "0ng0wMorzbGL",
        "outputId": "49ef9cc5-14ad-44f0-ad39-9b05097d59a8"
      },
      "execution_count": 42,
      "outputs": [
        {
          "output_type": "stream",
          "name": "stdout",
          "text": [
            "[[1, 3], [4, 6]]\n"
          ]
        }
      ]
    },
    {
      "cell_type": "markdown",
      "source": [
        "Given an integer array nums of length n where all the integers of nums are in the range [1, n] and each integer appears **once** or **twice**, return *an array of all the integers that appears **twice***.\n",
        "\n",
        "You must write an algorithm that runs in O(n) time and uses only constant extra space.\n",
        "\n",
        "**Example 1:**\n",
        "\n",
        "**Input:** nums = [4,3,2,7,8,2,3,1]"
      ],
      "metadata": {
        "id": "kzvz-59H9zkU"
      }
    },
    {
      "cell_type": "code",
      "source": [
        "def notunique(a):\n",
        "  b=set(a)\n",
        "  new=[]\n",
        "  c={}\n",
        "  for i in range(len(a)):\n",
        "    key=a[i]\n",
        "    c[key]=c.get(key,0)+1\n",
        "  for d in b:\n",
        "    if c[d]>1:\n",
        "      new.append(d)\n",
        "  return new\n",
        "nums = [4,3,2,7,8,2,3,1]\n",
        "print((notunique(nums)))"
      ],
      "metadata": {
        "colab": {
          "base_uri": "https://localhost:8080/"
        },
        "id": "xp7R-zkO8waG",
        "outputId": "fed474bc-906e-4c36-a5f5-5ad91fd2aecb"
      },
      "execution_count": 46,
      "outputs": [
        {
          "output_type": "stream",
          "name": "stdout",
          "text": [
            "[2, 3]\n"
          ]
        }
      ]
    },
    {
      "cell_type": "markdown",
      "source": [
        "Given the sorted rotated array nums of **unique** elements, return *the minimum element of this array*.\n",
        "\n",
        "You must write an algorithm that runs in O(log n) time"
      ],
      "metadata": {
        "id": "psNbrS5DDoQ4"
      }
    },
    {
      "cell_type": "code",
      "source": [
        "def findminimum(a):\n",
        "  i=0\n",
        "  while a[i]<a[i+1]:\n",
        "    i+=1\n",
        "  low=i+1\n",
        "  high=i\n",
        "  return a[low]\n",
        "print(findminimum([3,4,5,1,2]))\n",
        "  "
      ],
      "metadata": {
        "colab": {
          "base_uri": "https://localhost:8080/"
        },
        "id": "f8Ei3LanBNNC",
        "outputId": "40399ddb-eb1e-4605-f6e1-3ef84cbd7877"
      },
      "execution_count": 47,
      "outputs": [
        {
          "output_type": "stream",
          "name": "stdout",
          "text": [
            "1\n"
          ]
        }
      ]
    },
    {
      "cell_type": "code",
      "source": [],
      "metadata": {
        "id": "gmGTx83GGtm6"
      },
      "execution_count": null,
      "outputs": []
    }
  ]
}