{
  "nbformat": 4,
  "nbformat_minor": 0,
  "metadata": {
    "colab": {
      "provenance": [],
      "authorship_tag": "ABX9TyNlLm59782ruGi+z2qIQ+ru",
      "include_colab_link": true
    },
    "kernelspec": {
      "name": "python3",
      "display_name": "Python 3"
    },
    "language_info": {
      "name": "python"
    }
  },
  "cells": [
    {
      "cell_type": "markdown",
      "metadata": {
        "id": "view-in-github",
        "colab_type": "text"
      },
      "source": [
        "<a href=\"https://colab.research.google.com/github/LataData/Assignments/blob/main/Untitled4.ipynb\" target=\"_parent\"><img src=\"https://colab.research.google.com/assets/colab-badge.svg\" alt=\"Open In Colab\"/></a>"
      ]
    },
    {
      "cell_type": "code",
      "execution_count": 15,
      "metadata": {
        "id": "02892Ag17n7a"
      },
      "outputs": [],
      "source": [
        "import requests\n",
        "import logging\n",
        "import os\n",
        "from bs4 import BeautifulSoup\n",
        "from urllib.request import urlopen"
      ]
    },
    {
      "cell_type": "code",
      "source": [
        "save_dir=\"images/\"\n",
        "if not os.path.exists(save_dir):\n",
        "  os.makedirs(save_dir)"
      ],
      "metadata": {
        "id": "wiZ1W_Ju8PPm"
      },
      "execution_count": 4,
      "outputs": []
    },
    {
      "cell_type": "code",
      "source": [
        "query=\"elon musk\"\n",
        "#url\"=f.\"https://www.google.com/search?sxsrf=AB5stBgaFcVVR9RS8SFIIkWctNsSqubkrg:1690690862769&q={query}&tbm=isch&source=lnms&sa=X&ved=2ahUKEwjE_7KiyrWAAxXGamwGHYHiDgoQ0pQJegQIDBAB&cshid=1690691054162538&biw=1366&bih=619\"\n"
      ],
      "metadata": {
        "id": "63fbKaTvBthU"
      },
      "execution_count": 11,
      "outputs": []
    },
    {
      "cell_type": "code",
      "source": [
        "response=requests.get(f\"https://www.google.com/search?sxsrf=AB5stBgaFcVVR9RS8SFIIkWctNsSqubkrg:1690690862769&q={query}&tbm=isch&source=lnms&sa=X&ved=2ahUKEwjE_7KiyrWAAxXGamwGHYHiDgoQ0pQJegQIDBAB&cshid=1690691054162538&biw=1366&bih=619\")"
      ],
      "metadata": {
        "id": "xzMR7pVBDE32"
      },
      "execution_count": 23,
      "outputs": []
    },
    {
      "cell_type": "code",
      "source": [
        "soup=BeautifulSoup(response.content,\"html.parser\")"
      ],
      "metadata": {
        "id": "IbiMetPQDXSy"
      },
      "execution_count": 24,
      "outputs": []
    },
    {
      "cell_type": "code",
      "source": [
        "soup"
      ],
      "metadata": {
        "colab": {
          "base_uri": "https://localhost:8080/"
        },
        "id": "I7zrMTpLEimE",
        "outputId": "b4b6b900-2eb9-4f6c-ee08-cee1804b84d2"
      },
      "execution_count": 25,
      "outputs": [
        {
          "output_type": "execute_result",
          "data": {
            "text/plain": [
              "<!DOCTYPE html PUBLIC \"-//WAPFORUM//DTD XHTML Mobile 1.0//EN\" \"http://www.wapforum.org/DTD/xhtml-mobile10.dtd\">\n",
              "<html lang=\"en\" xmlns=\"http://www.w3.org/1999/xhtml\"><head><meta content=\"application/xhtml+xml; charset=utf-8\" http-equiv=\"Content-Type\"/><meta content=\"no-cache\" name=\"Cache-Control\"/><title>elon musk - Google Search</title><style>a{text-decoration:none;color:inherit}a:hover{text-decoration:underline}a img{border:0}body{font-family:arial,sans-serif;padding:8px;margin:0 auto;max-width:700px;min-width:240px;}.FbhRzb{border-left:thin solid #dadce0;border-right:thin solid #dadce0;border-top:thin solid #dadce0;height:40px;overflow:hidden}.n692Zd{margin-bottom:10px}.cvifge{height:40px;border-spacing:0}.QvGUP{height:40px;padding:0 8px 0 8px;vertical-align:top}.O4cRJf{height:40px;width:100%;padding:0;padding-right:16px}.O1ePr{height:40px;padding:0;vertical-align:top}.kgJEQe{height:36px;width:98px;vertical-align:top;margin-top:4px}.lXLRf{vertical-align:top}.MhzMZd{border:0;vertical-align:middle;font-size:14px;height:40px;padding:0;width:100%;padding-left:16px}.xB0fq{height:40px;border:none;font-size:14px;background-color:#1a73e8;color:#fff;padding:0 16px;margin:0;vertical-align:top;cursor:pointer}.xB0fq:focus{border:1px solid #1a73e8}.M7pB2{border:thin solid #dadce0;margin:0 0 3px 0;font-size:13px;font-weight:500;height:40px}.euZec{width:100%;height:40px;text-align:center;border-spacing:0}table.euZec td{padding:0;width:25%}.QIqI7{display:inline-block;padding-top:4px;font-weight:bold;color:#4285f4}.EY24We{border-bottom:2px solid #4285f4}.CsQyDc{display:inline-block;color:#70757a}.TuS8Ad{font-size:14px}.HddGcc{padding:8px;color:#70757a}.dzp8ae{font-weight:bold;color:#3c4043}.rEM8G{color:#70757a}.bookcf{table-layout:fixed;width:100%;border-spacing:0}.InWNIe{text-align:center}.uZgmoc{border:thin solid #dadce0;color:#70757a;font-size:14px;text-align:center;table-layout:fixed;width:100%}.frGj1b{display:block;padding:12px 0 12px 0;width:100%}.BnJWBc{text-align:center;padding:6px 0 13px 0;height:35px}.e3goi{vertical-align:top;padding:0;height:180px}.GpQGbf{margin:auto;border-collapse:collapse;border-spacing:0;width:100%}</style></head><body><style>.X6ZCif{color:#202124;font-size:11px;line-height:16px;display:inline-block;padding-top:2px;overflow:hidden;padding-bottom:4px;width:100%}.TwVfHd{border-radius:16px;border:thin solid #dadce0;display:inline-block;padding:8px 8px;margin-right:8px;margin-bottom:4px}.yekiAe{background-color:#dadce0}.mnTahd{width:100%}.ezO2md{border:thin solid #dadce0;padding:12px 16px 12px 16px;margin-bottom:10px;font-family:arial,sans-serif}.lIMUZd{font-family:arial,sans-serif}.IkMU6e{border-spacing:0}.SjCsie{width:100%}.EnarA{text-align:center}.NZWO1b{width:162px;height:140px;line-height:140px;overflow:'hidden';text-align:center}.yWs4tf{text-align:center;margin:auto;vertical-align:middle;max-width:162px;max-height:140px}.jB2rPd{padding-top:2px;padding-bottom:8px;}.fYyStc{word-break:break-word}.ynsChf{display:block;white-space:nowrap;overflow:hidden;text-overflow:ellipsis}.Fj3V3b{color:#1967d2;font-size:14px;line-height:20px}.FrIlee{color:#202124;font-size:11px;line-height:16px}.F9iS2e{color:#70757a;font-size:11px;line-height:16px}.WMQ2Le{color:#70757a;font-size:12px;line-height:16px}.x3G5ab{color:#202124;font-size:12px;line-height:16px}.fuLhoc{color:#1967d2;font-size:16px;line-height:20px}.epoveb{font-size:24px;line-height:28px;font-weight:400;color:#202124}.dXDvrc{color:#0d652d;font-size:14px;line-height:20px;word-wrap:break-word}.dloBPe{font-weight:bold}.YVIcad{color:#70757a}.JkVVdd{color:#ea4335}.oXZRFd{color:#ea4335}.MQHtg{color:#fbbc04}.pyMRrb{color:#1e8e3e}.EtTZid{color:#1e8e3e}.M3vVJe{color:#1967d2}.qXLe6d{display:block}.NHQNef{font-style:italic}.Cb8Z7c{white-space:pre}a.ZWRArf{text-decoration:none}a .CVA68e:hover{text-decoration:underline}</style><div class=\"n692Zd\"><div class=\"BnJWBc\"><a class=\"lXLRf\" href=\"/?sa=X&amp;sca_esv=552184673&amp;biw=1366&amp;bih=619&amp;output=images&amp;ie=UTF-8&amp;tbm=isch&amp;ved=0ahUKEwihjaG7zrWAAxXAkYQIHbiSA0UQPAgC\"><img alt=\"Google\" class=\"kgJEQe\" src=\"/images/branding/searchlogo/1x/googlelogo_desk_heirloom_color_150x55dp.gif\"/></a></div><div class=\"FbhRzb\"><form action=\"/search\"><input name=\"sca_esv\" type=\"hidden\" value=\"552184673\"/><input name=\"biw\" type=\"hidden\" value=\"1366\"/><input name=\"bih\" type=\"hidden\" value=\"619\"/><input name=\"ie\" type=\"hidden\" value=\"ISO-8859-1\"/><input name=\"tbm\" type=\"hidden\" value=\"isch\"/><input name=\"oq\" type=\"hidden\"/><input name=\"aqs\" type=\"hidden\"/><table class=\"cvifge\"><tr><td class=\"O4cRJf\"><input class=\"MhzMZd\" name=\"q\" type=\"text\" value=\"elon musk\"/></td><td class=\"O1ePr\"><input class=\"xB0fq\" type=\"submit\" value=\"Search\"/></td></tr></table></form></div><div class=\"M7pB2\"><table class=\"euZec\"><tbody><tr><td><a class=\"CsQyDc\" href=\"/search?q=elon+musk&amp;sca_esv=552184673&amp;biw=1366&amp;bih=619&amp;ie=UTF-8&amp;source=lnms&amp;sa=X&amp;ved=0ahUKEwihjaG7zrWAAxXAkYQIHbiSA0UQ_AUIBCgA\">ALL</a></td><td><a class=\"CsQyDc\" href=\"/search?q=elon+musk&amp;sca_esv=552184673&amp;biw=1366&amp;bih=619&amp;ie=UTF-8&amp;tbm=nws&amp;source=lnms&amp;sa=X&amp;ved=0ahUKEwihjaG7zrWAAxXAkYQIHbiSA0UQ_AUIBSgB\">NEWS</a></td><td class=\"EY24We\"><span class=\"QIqI7\">IMAGES</span></td><td><a class=\"CsQyDc\" href=\"/search?q=elon+musk&amp;sca_esv=552184673&amp;biw=1366&amp;bih=619&amp;ie=UTF-8&amp;tbm=vid&amp;source=lnms&amp;sa=X&amp;ved=0ahUKEwihjaG7zrWAAxXAkYQIHbiSA0UQ_AUIBygD\">VIDEOS</a></td></tr></tbody></table></div></div><div class=\"X6ZCif\"><a class=\"TwVfHd\" href=\"/search?sca_esv=552184673&amp;biw=1366&amp;bih=619&amp;ie=UTF-8&amp;tbm=isch&amp;q=elon+musk&amp;chips=q:elon+musk,g_1:tesla&amp;sa=X&amp;ved=0ahUKEwihjaG7zrWAAxXAkYQIHbiSA0UQ4lYICygA\">tesla</a><a class=\"TwVfHd\" href=\"/search?sca_esv=552184673&amp;biw=1366&amp;bih=619&amp;ie=UTF-8&amp;tbm=isch&amp;q=elon+musk&amp;chips=q:elon+musk,g_1:spacex&amp;sa=X&amp;ved=0ahUKEwihjaG7zrWAAxXAkYQIHbiSA0UQ4lYIDCgB\">spacex</a><a class=\"TwVfHd\" href=\"/search?sca_esv=552184673&amp;biw=1366&amp;bih=619&amp;ie=UTF-8&amp;tbm=isch&amp;q=elon+musk&amp;chips=q:elon+musk,g_1:wallpaper&amp;sa=X&amp;ved=0ahUKEwihjaG7zrWAAxXAkYQIHbiSA0UQ4lYIDSgC\">wallpaper</a><a class=\"TwVfHd\" href=\"/search?sca_esv=552184673&amp;biw=1366&amp;bih=619&amp;ie=UTF-8&amp;tbm=isch&amp;q=elon+musk&amp;chips=q:elon+musk,g_1:rocket&amp;sa=X&amp;ved=0ahUKEwihjaG7zrWAAxXAkYQIHbiSA0UQ4lYIDigD\">rocket</a><a class=\"TwVfHd\" href=\"/search?sca_esv=552184673&amp;biw=1366&amp;bih=619&amp;ie=UTF-8&amp;tbm=isch&amp;q=elon+musk&amp;chips=q:elon+musk,g_1:car&amp;sa=X&amp;ved=0ahUKEwihjaG7zrWAAxXAkYQIHbiSA0UQ4lYIDygE\">car</a><a class=\"TwVfHd\" href=\"/search?sca_esv=552184673&amp;biw=1366&amp;bih=619&amp;ie=UTF-8&amp;tbm=isch&amp;q=elon+musk&amp;chips=q:elon+musk,g_1:twitter&amp;sa=X&amp;ved=0ahUKEwihjaG7zrWAAxXAkYQIHbiSA0UQ4lYIECgF\">twitter</a><a class=\"TwVfHd\" href=\"/search?sca_esv=552184673&amp;biw=1366&amp;bih=619&amp;ie=UTF-8&amp;tbm=isch&amp;q=elon+musk&amp;chips=q:elon+musk,g_1:grimes&amp;sa=X&amp;ved=0ahUKEwihjaG7zrWAAxXAkYQIHbiSA0UQ4lYIESgG\">grimes</a><a class=\"TwVfHd\" href=\"/search?sca_esv=552184673&amp;biw=1366&amp;bih=619&amp;ie=UTF-8&amp;tbm=isch&amp;q=elon+musk&amp;chips=q:elon+musk,g_1:early&amp;sa=X&amp;ved=0ahUKEwihjaG7zrWAAxXAkYQIHbiSA0UQ4lYIEigH\">early</a><a class=\"TwVfHd\" href=\"/search?sca_esv=552184673&amp;biw=1366&amp;bih=619&amp;ie=UTF-8&amp;tbm=isch&amp;q=elon+musk&amp;chips=q:elon+musk,g_1:paypal&amp;sa=X&amp;ved=0ahUKEwihjaG7zrWAAxXAkYQIHbiSA0UQ4lYIEygI\">paypal</a><a class=\"TwVfHd\" href=\"/search?sca_esv=552184673&amp;biw=1366&amp;bih=619&amp;ie=UTF-8&amp;tbm=isch&amp;q=elon+musk&amp;chips=q:elon+musk,g_1:family&amp;sa=X&amp;ved=0ahUKEwihjaG7zrWAAxXAkYQIHbiSA0UQ4lYIFCgJ\">family</a></div><div><table class=\"GpQGbf\"><tr><td align=\"center\" class=\"e3goi\"><div class=\"mnTahd\"> <div> <div class=\"lIMUZd\"><div><table class=\"IkMU6e\"><tr><td><a href=\"/url?q=https://www.nbcnews.com/tech/tech-news/elon-musks-takes-x-handle-longtime-twitter-user-rcna96074&amp;sa=U&amp;ved=2ahUKEwihjaG7zrWAAxXAkYQIHbiSA0UQqoUBegQIBBAB&amp;usg=AOvVaw2GJ5v8oup94XjMQCuC9sFl\"><div class=\"NZWO1b\"><img alt=\"\" class=\"yWs4tf\" src=\"https://encrypted-tbn0.gstatic.com/images?q=tbn:ANd9GcSbs1hvzkhtzKJpoW1qsaJqmw-HNi4SIIR2HZhUO-hKmObfcrWKWFHaZ3IC6uk&amp;s\"/></div></a></td></tr><tr><td><a href=\"/url?q=https://www.nbcnews.com/tech/tech-news/elon-musks-takes-x-handle-longtime-twitter-user-rcna96074&amp;sa=U&amp;ved=2ahUKEwihjaG7zrWAAxXAkYQIHbiSA0UQr4kDegQIBBAC&amp;usg=AOvVaw0Y-HAOUrhOpTqs8D2Orb0M\"><div class=\"jB2rPd\"> <span class=\"qXLe6d x3G5ab\"> <span class=\"fYyStc\">Elon Musk's X takes @X...</span> </span> <span class=\"qXLe6d F9iS2e\"> <span class=\"fYyStc\">www.nbcnews.com</span> </span> </div></a></td></tr></table></div></div> </div> </div></td><td align=\"center\" class=\"e3goi\"><div class=\"mnTahd\"> <div> <div class=\"lIMUZd\"><div><table class=\"IkMU6e\"><tr><td><a href=\"/url?q=https://www.cnn.com/2023/07/25/tech/twitter-x-elon-musk-rebrand-strategy/index.html&amp;sa=U&amp;ved=2ahUKEwihjaG7zrWAAxXAkYQIHbiSA0UQqoUBegQIExAB&amp;usg=AOvVaw2DPpo6UcI64n9NILQrlTTg\"><div class=\"NZWO1b\"><img alt=\"\" class=\"yWs4tf\" src=\"https://encrypted-tbn0.gstatic.com/images?q=tbn:ANd9GcSJaopQF1rdWhwmr7m77uxo0VCYQTxkktn89EN7f9JqwLBW89SKMl2x7H7083k&amp;s\"/></div></a></td></tr><tr><td><a href=\"/url?q=https://www.cnn.com/2023/07/25/tech/twitter-x-elon-musk-rebrand-strategy/index.html&amp;sa=U&amp;ved=2ahUKEwihjaG7zrWAAxXAkYQIHbiSA0UQr4kDegQIExAC&amp;usg=AOvVaw3KNg9KzXFzsGD9AheTrNxL\"><div class=\"jB2rPd\"> <span class=\"qXLe6d x3G5ab\"> <span class=\"fYyStc\">Twitter's rebrand is the...</span> </span> <span class=\"qXLe6d F9iS2e\"> <span class=\"fYyStc\">www.cnn.com</span> </span> </div></a></td></tr></table></div></div> </div> </div></td><td align=\"center\" class=\"e3goi\"><div class=\"mnTahd\"> <div> <div class=\"lIMUZd\"><div><table class=\"IkMU6e\"><tr><td><a href=\"/url?q=https://www.bloomberg.com/news/articles/2023-07-25/elon-musk-pursues-banking-in-wake-of-rivals-failed-attempts&amp;sa=U&amp;ved=2ahUKEwihjaG7zrWAAxXAkYQIHbiSA0UQqoUBegQIEhAB&amp;usg=AOvVaw1H2f-tLqoag93Ou2-7QURL\"><div class=\"NZWO1b\"><img alt=\"\" class=\"yWs4tf\" src=\"https://encrypted-tbn0.gstatic.com/images?q=tbn:ANd9GcRx-Yb54zKfM4FiiRZ9f8qc1G1OT6t9dhtd2bMCNjAAhEfiv6tv7nYtt4ZbY6Q&amp;s\"/></div></a></td></tr><tr><td><a href=\"/url?q=https://www.bloomberg.com/news/articles/2023-07-25/elon-musk-pursues-banking-in-wake-of-rivals-failed-attempts&amp;sa=U&amp;ved=2ahUKEwihjaG7zrWAAxXAkYQIHbiSA0UQr4kDegQIEhAC&amp;usg=AOvVaw0LksFw4T9DT0t9V9AxQ0g4\"><div class=\"jB2rPd\"> <span class=\"qXLe6d x3G5ab\"> <span class=\"fYyStc\">Elon Musk Pursues Banking...</span> </span> <span class=\"qXLe6d F9iS2e\"> <span class=\"fYyStc\">www.bloomberg.com</span> </span> </div></a></td></tr></table></div></div> </div> </div></td><td align=\"center\" class=\"e3goi\"><div class=\"mnTahd\"> <div> <div class=\"lIMUZd\"><div><table class=\"IkMU6e\"><tr><td><a href=\"/url?q=https://www.reuters.com/legal/elon-musk-appeal-loss-sec-case-supreme-court-2023-07-25/&amp;sa=U&amp;ved=2ahUKEwihjaG7zrWAAxXAkYQIHbiSA0UQqoUBegQIERAB&amp;usg=AOvVaw008ZLWD_ykKdcdyieEMafx\"><div class=\"NZWO1b\"><img alt=\"\" class=\"yWs4tf\" src=\"https://encrypted-tbn0.gstatic.com/images?q=tbn:ANd9GcR8nKcmhegUl4AhTqFVo6Gj9xm_rEDRoIvpanEkJPYOInMVTrigdyjb8k43BQ&amp;s\"/></div></a></td></tr><tr><td><a href=\"/url?q=https://www.reuters.com/legal/elon-musk-appeal-loss-sec-case-supreme-court-2023-07-25/&amp;sa=U&amp;ved=2ahUKEwihjaG7zrWAAxXAkYQIHbiSA0UQr4kDegQIERAC&amp;usg=AOvVaw3tc97s7S1gZRIjhiauxdqi\"><div class=\"jB2rPd\"> <span class=\"qXLe6d x3G5ab\"> <span class=\"fYyStc\">Elon Musk to appeal loss in...</span> </span> <span class=\"qXLe6d F9iS2e\"> <span class=\"fYyStc\">www.reuters.com</span> </span> </div></a></td></tr></table></div></div> </div> </div></td></tr><tr><td align=\"center\" class=\"e3goi\"><div class=\"mnTahd\"> <div> <div class=\"lIMUZd\"><div><table class=\"IkMU6e\"><tr><td><a href=\"/url?q=https://www.britannica.com/biography/Elon-Musk&amp;sa=U&amp;ved=2ahUKEwihjaG7zrWAAxXAkYQIHbiSA0UQqoUBegQIDRAB&amp;usg=AOvVaw2bzyiSGb12neDShZXy0eiR\"><div class=\"NZWO1b\"><img alt=\"\" class=\"yWs4tf\" src=\"https://encrypted-tbn0.gstatic.com/images?q=tbn:ANd9GcQY_R5NSNoZkSlMo3hf86COGJ4fCv0s6Nx4k8uCGkWc6YGOn_m4-rIOQ3GhOhg&amp;s\"/></div></a></td></tr><tr><td><a href=\"/url?q=https://www.britannica.com/biography/Elon-Musk&amp;sa=U&amp;ved=2ahUKEwihjaG7zrWAAxXAkYQIHbiSA0UQr4kDegQIDRAC&amp;usg=AOvVaw0_u2oEZRIq2YnW5HBsXy4v\"><div class=\"jB2rPd\"> <span class=\"qXLe6d x3G5ab\"> <span class=\"fYyStc\">Elon Musk | Biography,...</span> </span> <span class=\"qXLe6d F9iS2e\"> <span class=\"fYyStc\">www.britannica.com</span> </span> </div></a></td></tr></table></div></div> </div> </div></td><td align=\"center\" class=\"e3goi\"><div class=\"mnTahd\"> <div> <div class=\"lIMUZd\"><div><table class=\"IkMU6e\"><tr><td><a href=\"/url?q=https://people.com/elon-musk-complete-dating-history-7502497&amp;sa=U&amp;ved=2ahUKEwihjaG7zrWAAxXAkYQIHbiSA0UQqoUBegQIChAB&amp;usg=AOvVaw3TgvGSLgZ1o1MsD1GSJOfi\"><div class=\"NZWO1b\"><img alt=\"\" class=\"yWs4tf\" src=\"https://encrypted-tbn0.gstatic.com/images?q=tbn:ANd9GcQMTekpXsdQimyWEzTNJPNJIGrW8b2vKvoQaDbJDSfuZHQh29b-oKubE1bBYC0&amp;s\"/></div></a></td></tr><tr><td><a href=\"/url?q=https://people.com/elon-musk-complete-dating-history-7502497&amp;sa=U&amp;ved=2ahUKEwihjaG7zrWAAxXAkYQIHbiSA0UQr4kDegQIChAC&amp;usg=AOvVaw2td8B670FZrLz6FqRUjbYw\"><div class=\"jB2rPd\"> <span class=\"qXLe6d x3G5ab\"> <span class=\"fYyStc\">Elon Musk's Dating History:...</span> </span> <span class=\"qXLe6d F9iS2e\"> <span class=\"fYyStc\">people.com</span> </span> </div></a></td></tr></table></div></div> </div> </div></td><td align=\"center\" class=\"e3goi\"><div class=\"mnTahd\"> <div> <div class=\"lIMUZd\"><div><table class=\"IkMU6e\"><tr><td><a href=\"/url?q=https://electrek.co/2023/07/27/disapproval-elon-musk-top-reason-tesla-owners-selling-survey/&amp;sa=U&amp;ved=2ahUKEwihjaG7zrWAAxXAkYQIHbiSA0UQqoUBegQIDxAB&amp;usg=AOvVaw3F_CZ7hNSfuZjkhFtEnak5\"><div class=\"NZWO1b\"><img alt=\"\" class=\"yWs4tf\" src=\"https://encrypted-tbn0.gstatic.com/images?q=tbn:ANd9GcQpk3jJ86Eohb2rwfQR_GzzyHCIppuyGWtOXQkVsvfOwmJMdCpXGtK5TwjSgw&amp;s\"/></div></a></td></tr><tr><td><a href=\"/url?q=https://electrek.co/2023/07/27/disapproval-elon-musk-top-reason-tesla-owners-selling-survey/&amp;sa=U&amp;ved=2ahUKEwihjaG7zrWAAxXAkYQIHbiSA0UQr4kDegQIDxAC&amp;usg=AOvVaw11cTISzqlp4RNBzl3fMP75\"><div class=\"jB2rPd\"> <span class=\"qXLe6d x3G5ab\"> <span class=\"fYyStc\">Disapproval of Elon Musk is...</span> </span> <span class=\"qXLe6d F9iS2e\"> <span class=\"fYyStc\">electrek.co</span> </span> </div></a></td></tr></table></div></div> </div> </div></td><td align=\"center\" class=\"e3goi\"><div class=\"mnTahd\"> <div> <div class=\"lIMUZd\"><div><table class=\"IkMU6e\"><tr><td><a href=\"/url?q=https://www.cnn.com/2023/07/12/tech/elon-musk-ai-company/index.html&amp;sa=U&amp;ved=2ahUKEwihjaG7zrWAAxXAkYQIHbiSA0UQqoUBegQICxAB&amp;usg=AOvVaw1qwh2B4Z59m4qFI6HQXAWp\"><div class=\"NZWO1b\"><img alt=\"\" class=\"yWs4tf\" src=\"https://encrypted-tbn0.gstatic.com/images?q=tbn:ANd9GcRUNt-70ZeRtX94MTAGG_0jct8icPN38L_0vC8ub8XMMGdqXlbjk3aWVvEiX6c&amp;s\"/></div></a></td></tr><tr><td><a href=\"/url?q=https://www.cnn.com/2023/07/12/tech/elon-musk-ai-company/index.html&amp;sa=U&amp;ved=2ahUKEwihjaG7zrWAAxXAkYQIHbiSA0UQr4kDegQICxAC&amp;usg=AOvVaw1KOA7mROWtFHLC6sLx78QJ\"><div class=\"jB2rPd\"> <span class=\"qXLe6d x3G5ab\"> <span class=\"fYyStc\">xAI: Elon Musk announces a...</span> </span> <span class=\"qXLe6d F9iS2e\"> <span class=\"fYyStc\">www.cnn.com</span> </span> </div></a></td></tr></table></div></div> </div> </div></td></tr><tr><td align=\"center\" class=\"e3goi\"><div class=\"mnTahd\"> <div> <div class=\"lIMUZd\"><div><table class=\"IkMU6e\"><tr><td><a href=\"/url?q=https://www.cnbc.com/2023/07/24/elon-musk-rebrands-twitter-to-x-replaces-iconic-bird-logo.html&amp;sa=U&amp;ved=2ahUKEwihjaG7zrWAAxXAkYQIHbiSA0UQqoUBegQIDBAB&amp;usg=AOvVaw32iQIwdbZiYLm5j1qBOKVz\"><div class=\"NZWO1b\"><img alt=\"\" class=\"yWs4tf\" src=\"https://encrypted-tbn0.gstatic.com/images?q=tbn:ANd9GcT8OIn5WlHeQaweeHJM3W_8Zx0uP8jmv5THBdUf7LOe2VviuXhFIyHjdwBqQkQ&amp;s\"/></div></a></td></tr><tr><td><a href=\"/url?q=https://www.cnbc.com/2023/07/24/elon-musk-rebrands-twitter-to-x-replaces-iconic-bird-logo.html&amp;sa=U&amp;ved=2ahUKEwihjaG7zrWAAxXAkYQIHbiSA0UQr4kDegQIDBAC&amp;usg=AOvVaw3Nu6cvtW3zvuyK4DvSNWeh\"><div class=\"jB2rPd\"> <span class=\"qXLe6d x3G5ab\"> <span class=\"fYyStc\">Elon Musk rebrands Twitter...</span> </span> <span class=\"qXLe6d F9iS2e\"> <span class=\"fYyStc\">www.cnbc.com</span> </span> </div></a></td></tr></table></div></div> </div> </div></td><td align=\"center\" class=\"e3goi\"><div class=\"mnTahd\"> <div> <div class=\"lIMUZd\"><div><table class=\"IkMU6e\"><tr><td><a href=\"/url?q=https://www.theguardian.com/tv-and-radio/2022/oct/12/the-elon-musk-show-review-is-the-worlds-richest-man-a-genius-or-just-a-goofy-loner&amp;sa=U&amp;ved=2ahUKEwihjaG7zrWAAxXAkYQIHbiSA0UQqoUBegQIDhAB&amp;usg=AOvVaw0RGV_wVNig1JsMaLcBopFj\"><div class=\"NZWO1b\"><img alt=\"\" class=\"yWs4tf\" src=\"https://encrypted-tbn0.gstatic.com/images?q=tbn:ANd9GcRQZseQ9bRxUwHLR5yk-VmJYFt7AuZKTqzI7n1im9SOTEk9qWAeEoQcfZ8l5g&amp;s\"/></div></a></td></tr><tr><td><a href=\"/url?q=https://www.theguardian.com/tv-and-radio/2022/oct/12/the-elon-musk-show-review-is-the-worlds-richest-man-a-genius-or-just-a-goofy-loner&amp;sa=U&amp;ved=2ahUKEwihjaG7zrWAAxXAkYQIHbiSA0UQr4kDegQIDhAC&amp;usg=AOvVaw3O901rForXNPC3juIrjSBQ\"><div class=\"jB2rPd\"> <span class=\"qXLe6d x3G5ab\"> <span class=\"fYyStc\">The Elon Musk Show review –...</span> </span> <span class=\"qXLe6d F9iS2e\"> <span class=\"fYyStc\">www.theguardian.com</span> </span> </div></a></td></tr></table></div></div> </div> </div></td><td align=\"center\" class=\"e3goi\"><div class=\"mnTahd\"> <div> <div class=\"lIMUZd\"><div><table class=\"IkMU6e\"><tr><td><a href=\"/url?q=https://commons.wikimedia.org/wiki/File:Elon_Musk_Royal_Society_(crop2).jpg&amp;sa=U&amp;ved=2ahUKEwihjaG7zrWAAxXAkYQIHbiSA0UQqoUBegQIEBAB&amp;usg=AOvVaw1aeLby4YaJJtwGSZkBuX8F\"><div class=\"NZWO1b\"><img alt=\"\" class=\"yWs4tf\" src=\"https://encrypted-tbn0.gstatic.com/images?q=tbn:ANd9GcQEoGcTehPfBt44vuvC8wyJieRSiGKWqDO2UHbGG34cRttKR5nGr_NDLJHg_1s&amp;s\"/></div></a></td></tr><tr><td><a href=\"/url?q=https://commons.wikimedia.org/wiki/File:Elon_Musk_Royal_Society_(crop2).jpg&amp;sa=U&amp;ved=2ahUKEwihjaG7zrWAAxXAkYQIHbiSA0UQr4kDegQIEBAC&amp;usg=AOvVaw3Fes_lOZln4a7QpxzuGRGh\"><div class=\"jB2rPd\"> <span class=\"qXLe6d x3G5ab\"> <span class=\"fYyStc\">File:Elon Musk Royal...</span> </span> <span class=\"qXLe6d F9iS2e\"> <span class=\"fYyStc\">commons.wikimedia.org</span> </span> </div></a></td></tr></table></div></div> </div> </div></td><td align=\"center\" class=\"e3goi\"><div class=\"mnTahd\"> <div> <div class=\"lIMUZd\"><div><table class=\"IkMU6e\"><tr><td><a href=\"/url?q=https://www.biography.com/business-leaders/elon-musk&amp;sa=U&amp;ved=2ahUKEwihjaG7zrWAAxXAkYQIHbiSA0UQqoUBegQICRAB&amp;usg=AOvVaw3vRA-juy6FuiNqrRDsHx4w\"><div class=\"NZWO1b\"><img alt=\"\" class=\"yWs4tf\" src=\"https://encrypted-tbn0.gstatic.com/images?q=tbn:ANd9GcTvewo3-e7y-JsV16EL3q3EaMThVwCiuN7DD1_KTctFNodySZtMVcuOKk5uUQ&amp;s\"/></div></a></td></tr><tr><td><a href=\"/url?q=https://www.biography.com/business-leaders/elon-musk&amp;sa=U&amp;ved=2ahUKEwihjaG7zrWAAxXAkYQIHbiSA0UQr4kDegQICRAC&amp;usg=AOvVaw37ZwxxVsUVMC6VbTYLP9vI\"><div class=\"jB2rPd\"> <span class=\"qXLe6d x3G5ab\"> <span class=\"fYyStc\">Elon Musk - Tesla, Age &amp;...</span> </span> <span class=\"qXLe6d F9iS2e\"> <span class=\"fYyStc\">www.biography.com</span> </span> </div></a></td></tr></table></div></div> </div> </div></td></tr><tr><td align=\"center\" class=\"e3goi\"><div class=\"mnTahd\"> <div> <div class=\"lIMUZd\"><div><table class=\"IkMU6e\"><tr><td><a href=\"/url?q=https://fortune.com/2023/07/24/elon-musk-twitter-x-brand-value/&amp;sa=U&amp;ved=2ahUKEwihjaG7zrWAAxXAkYQIHbiSA0UQqoUBegQIAhAB&amp;usg=AOvVaw2zBnZqdRo5HeH2X5eAE4ys\"><div class=\"NZWO1b\"><img alt=\"\" class=\"yWs4tf\" src=\"https://encrypted-tbn0.gstatic.com/images?q=tbn:ANd9GcQLZL5lO5MYW3zBlJ13qJ0p-Io1ReQNhDcAN47mTGOo1JWfXDFHMAI5opAausw&amp;s\"/></div></a></td></tr><tr><td><a href=\"/url?q=https://fortune.com/2023/07/24/elon-musk-twitter-x-brand-value/&amp;sa=U&amp;ved=2ahUKEwihjaG7zrWAAxXAkYQIHbiSA0UQr4kDegQIAhAC&amp;usg=AOvVaw1Ai5HG2yoXdRJbG2cVcmr7\"><div class=\"jB2rPd\"> <span class=\"qXLe6d x3G5ab\"> <span class=\"fYyStc\">Elon Musk has wrecked...</span> </span> <span class=\"qXLe6d F9iS2e\"> <span class=\"fYyStc\">fortune.com</span> </span> </div></a></td></tr></table></div></div> </div> </div></td><td align=\"center\" class=\"e3goi\"><div class=\"mnTahd\"> <div> <div class=\"lIMUZd\"><div><table class=\"IkMU6e\"><tr><td><a href=\"/url?q=https://abcnews.go.com/Business/timeline-elon-musks-tumultuous-twitter-acquisition-attempt/story%3Fid%3D86611191&amp;sa=U&amp;ved=2ahUKEwihjaG7zrWAAxXAkYQIHbiSA0UQqoUBegQIARAB&amp;usg=AOvVaw3xYG3Ke5D0-aS71ghtk8HV\"><div class=\"NZWO1b\"><img alt=\"\" class=\"yWs4tf\" src=\"https://encrypted-tbn0.gstatic.com/images?q=tbn:ANd9GcQYT-beWXhhv_SWOWPN9WTqrBImmSSvhoow2B-381sc7q_Zq9z6qBWYujWvcw&amp;s\"/></div></a></td></tr><tr><td><a href=\"/url?q=https://abcnews.go.com/Business/timeline-elon-musks-tumultuous-twitter-acquisition-attempt/story%3Fid%3D86611191&amp;sa=U&amp;ved=2ahUKEwihjaG7zrWAAxXAkYQIHbiSA0UQr4kDegQIARAC&amp;usg=AOvVaw3tsJq9ab9MHVP6qkruRXqT\"><div class=\"jB2rPd\"> <span class=\"qXLe6d x3G5ab\"> <span class=\"fYyStc\">A timeline of Elon Musk's...</span> </span> <span class=\"qXLe6d F9iS2e\"> <span class=\"fYyStc\">abcnews.go.com</span> </span> </div></a></td></tr></table></div></div> </div> </div></td><td align=\"center\" class=\"e3goi\"><div class=\"mnTahd\"> <div> <div class=\"lIMUZd\"><div><table class=\"IkMU6e\"><tr><td><a href=\"/url?q=https://www.bankrate.com/investing/elon-musk/&amp;sa=U&amp;ved=2ahUKEwihjaG7zrWAAxXAkYQIHbiSA0UQqoUBegQIABAB&amp;usg=AOvVaw0j_Pm2hzQNGPDEbANTa1Lv\"><div class=\"NZWO1b\"><img alt=\"\" class=\"yWs4tf\" src=\"https://encrypted-tbn0.gstatic.com/images?q=tbn:ANd9GcTTCwkrB0WHyxlEZoU7ose0__nvdx44368eqpGm-Hq9zk-rN9LTTplKFiJ-2cQ&amp;s\"/></div></a></td></tr><tr><td><a href=\"/url?q=https://www.bankrate.com/investing/elon-musk/&amp;sa=U&amp;ved=2ahUKEwihjaG7zrWAAxXAkYQIHbiSA0UQr4kDegQIABAC&amp;usg=AOvVaw130dpGYOPfF4T7GZmOUSxc\"><div class=\"jB2rPd\"> <span class=\"qXLe6d x3G5ab\"> <span class=\"fYyStc\">Elon Musk In 2023: What To...</span> </span> <span class=\"qXLe6d F9iS2e\"> <span class=\"fYyStc\">www.bankrate.com</span> </span> </div></a></td></tr></table></div></div> </div> </div></td><td align=\"center\" class=\"e3goi\"><div class=\"mnTahd\"> <div> <div class=\"lIMUZd\"><div><table class=\"IkMU6e\"><tr><td><a href=\"/url?q=https://www.smh.com.au/business/companies/elon-musk-doubles-down-on-his-deluded-plan-for-world-domination-20230725-p5dr0v.html&amp;sa=U&amp;ved=2ahUKEwihjaG7zrWAAxXAkYQIHbiSA0UQqoUBegQIAxAB&amp;usg=AOvVaw35aeal5FsUIKUNqmZF2WEQ\"><div class=\"NZWO1b\"><img alt=\"\" class=\"yWs4tf\" src=\"https://encrypted-tbn0.gstatic.com/images?q=tbn:ANd9GcRgjtOpqKOBVVsskv9whJk8Eb-aZ-Emx59T4ieHAs80SwQU86PzA_yuxjRVE-A&amp;s\"/></div></a></td></tr><tr><td><a href=\"/url?q=https://www.smh.com.au/business/companies/elon-musk-doubles-down-on-his-deluded-plan-for-world-domination-20230725-p5dr0v.html&amp;sa=U&amp;ved=2ahUKEwihjaG7zrWAAxXAkYQIHbiSA0UQr4kDegQIAxAC&amp;usg=AOvVaw2Vu1DKy5A7_bqSh1cZXNPj\"><div class=\"jB2rPd\"> <span class=\"qXLe6d x3G5ab\"> <span class=\"fYyStc\">Elon Musk rebrands Twitter...</span> </span> <span class=\"qXLe6d F9iS2e\"> <span class=\"fYyStc\">www.smh.com.au</span> </span> </div></a></td></tr></table></div></div> </div> </div></td></tr><tr><td align=\"center\" class=\"e3goi\"><div class=\"mnTahd\"> <div> <div class=\"lIMUZd\"><div><table class=\"IkMU6e\"><tr><td><a href=\"/url?q=https://www.simonandschuster.com/books/Elon-Musk/Walter-Isaacson/9781982181284&amp;sa=U&amp;ved=2ahUKEwihjaG7zrWAAxXAkYQIHbiSA0UQqoUBegQIBRAB&amp;usg=AOvVaw2d6qrghWR3-g0S01KoIc92\"><div class=\"NZWO1b\"><img alt=\"\" class=\"yWs4tf\" src=\"https://encrypted-tbn0.gstatic.com/images?q=tbn:ANd9GcS6PtbO3oSFgC1yh6BPlre0Sr5h3aca6UrEmg7ibGUrD1g40Xm5cZBGYl7G3PU&amp;s\"/></div></a></td></tr><tr><td><a href=\"/url?q=https://www.simonandschuster.com/books/Elon-Musk/Walter-Isaacson/9781982181284&amp;sa=U&amp;ved=2ahUKEwihjaG7zrWAAxXAkYQIHbiSA0UQr4kDegQIBRAC&amp;usg=AOvVaw3HwO-1tcZvAUHUpUlEhEL4\"><div class=\"jB2rPd\"> <span class=\"qXLe6d x3G5ab\"> <span class=\"fYyStc\">Elon Musk | Book by Walter...</span> </span> <span class=\"qXLe6d F9iS2e\"> <span class=\"fYyStc\">www.simonandschuster.com</span> </span> </div></a></td></tr></table></div></div> </div> </div></td><td align=\"center\" class=\"e3goi\"><div class=\"mnTahd\"> <div> <div class=\"lIMUZd\"><div><table class=\"IkMU6e\"><tr><td><a href=\"/url?q=https://www.businessinsider.com/elon-musk-relationships-2017-11&amp;sa=U&amp;ved=2ahUKEwihjaG7zrWAAxXAkYQIHbiSA0UQqoUBegQIBxAB&amp;usg=AOvVaw1UZMxFOnNRSavBbhIyE9FJ\"><div class=\"NZWO1b\"><img alt=\"\" class=\"yWs4tf\" src=\"https://encrypted-tbn0.gstatic.com/images?q=tbn:ANd9GcTajsryULnUhibLm7EAy_8EkoDdfDf-C3MgzuCkCs3my64MQcQxf4O63e74kEI&amp;s\"/></div></a></td></tr><tr><td><a href=\"/url?q=https://www.businessinsider.com/elon-musk-relationships-2017-11&amp;sa=U&amp;ved=2ahUKEwihjaG7zrWAAxXAkYQIHbiSA0UQr4kDegQIBxAC&amp;usg=AOvVaw2hkE8NFE2F1tpjG1NgAnua\"><div class=\"jB2rPd\"> <span class=\"qXLe6d x3G5ab\"> <span class=\"fYyStc\">Elon Musk Relationship...</span> </span> <span class=\"qXLe6d F9iS2e\"> <span class=\"fYyStc\">www.businessinsider.com</span> </span> </div></a></td></tr></table></div></div> </div> </div></td><td align=\"center\" class=\"e3goi\"><div class=\"mnTahd\"> <div> <div class=\"lIMUZd\"><div><table class=\"IkMU6e\"><tr><td><a href=\"/url?q=https://www.space.com/18849-elon-musk.html&amp;sa=U&amp;ved=2ahUKEwihjaG7zrWAAxXAkYQIHbiSA0UQqoUBegQICBAB&amp;usg=AOvVaw0kdyXJv_BmYCfYjKl7a4kS\"><div class=\"NZWO1b\"><img alt=\"\" class=\"yWs4tf\" src=\"https://encrypted-tbn0.gstatic.com/images?q=tbn:ANd9GcT1Q-0CmrVfXGte1S5KxWDiRtt6djhyUzRP_tIhSGVZqmYd_tGTQH9EmMdXTQ&amp;s\"/></div></a></td></tr><tr><td><a href=\"/url?q=https://www.space.com/18849-elon-musk.html&amp;sa=U&amp;ved=2ahUKEwihjaG7zrWAAxXAkYQIHbiSA0UQr4kDegQICBAC&amp;usg=AOvVaw2182Iq2EPdpI145A1YOoCz\"><div class=\"jB2rPd\"> <span class=\"qXLe6d x3G5ab\"> <span class=\"fYyStc\">Elon Musk: Revolutionary...</span> </span> <span class=\"qXLe6d F9iS2e\"> <span class=\"fYyStc\">www.space.com</span> </span> </div></a></td></tr></table></div></div> </div> </div></td><td align=\"center\" class=\"e3goi\"><div class=\"mnTahd\"> <div> <div class=\"lIMUZd\"><div><table class=\"IkMU6e\"><tr><td><a href=\"/url?q=https://en.wikipedia.org/wiki/Elon_Musk&amp;sa=U&amp;ved=2ahUKEwihjaG7zrWAAxXAkYQIHbiSA0UQqoUBegQIBhAB&amp;usg=AOvVaw3qVAjNRyCvbXBjM4qU49he\"><div class=\"NZWO1b\"><img alt=\"\" class=\"yWs4tf\" src=\"https://encrypted-tbn0.gstatic.com/images?q=tbn:ANd9GcQ91bYeYuNi93Snai-G61-ct5IkXUEpoeW1RpiOFFuRWggNeJf-7uN0OZsy5XI&amp;s\"/></div></a></td></tr><tr><td><a href=\"/url?q=https://en.wikipedia.org/wiki/Elon_Musk&amp;sa=U&amp;ved=2ahUKEwihjaG7zrWAAxXAkYQIHbiSA0UQr4kDegQIBhAC&amp;usg=AOvVaw3wD_BqDPirAnvNUqOBpLeA\"><div class=\"jB2rPd\"> <span class=\"qXLe6d x3G5ab\"> <span class=\"fYyStc\">Elon Musk - Wikipedia</span> </span> <span class=\"qXLe6d F9iS2e\"> <span class=\"fYyStc\">en.wikipedia.org</span> </span> </div></a></td></tr></table></div></div> </div> </div></td></tr></table></div><table class=\"uZgmoc\"><tbody><td><a class=\"frGj1b\" href=\"/search?q=elon+musk&amp;sca_esv=552184673&amp;biw=1366&amp;bih=619&amp;ie=UTF-8&amp;tbm=isch&amp;ei=lOnFZKHzJsCjkvQPuKWOqAQ&amp;start=20&amp;sa=N\">Next &gt;</a></td></tbody></table><br/><div class=\"TuS8Ad\" data-ved=\"0ahUKEwihjaG7zrWAAxXAkYQIHbiSA0UQpyoIUg\"><style>.VYM29{font-weight:bold}</style><div align=\"center\" class=\"HddGcc\"><span class=\"VYM29\">United States</span><span> - </span><span>From your IP address</span><span> - </span><a href=\"/url?q=https://support.google.com/websearch%3Fp%3Dws_settings_location%26hl%3Den&amp;sa=U&amp;ved=0ahUKEwihjaG7zrWAAxXAkYQIHbiSA0UQty4IUw&amp;usg=AOvVaw3y3cxpDhQW_LbUMkV_ioCO\">Learn more</a></div><div align=\"center\"><a class=\"rEM8G\" href=\"/url?q=https://accounts.google.com/ServiceLogin%3Fcontinue%3Dhttps://www.google.com/search%253Fsxsrf%253DAB5stBgaFcVVR9RS8SFIIkWctNsSqubkrg:1690690862769%2526q%253Delon%252Bmusk%2526tbm%253Disch%2526source%253Dlnms%2526sa%253DX%2526ved%253D2ahUKEwjE_7KiyrWAAxXGamwGHYHiDgoQ0pQJegQIDBAB%2526cshid%253D1690691054162538%2526biw%253D1366%2526bih%253D619%26hl%3Den&amp;sa=U&amp;ved=0ahUKEwihjaG7zrWAAxXAkYQIHbiSA0UQxs8CCFQ&amp;usg=AOvVaw1sbbIogJKrBDP4n5VqfeSR\">Sign in</a></div><div><table class=\"bookcf\"><tbody class=\"InWNIe\"><tr><td><a class=\"rEM8G\" href=\"https://www.google.com/preferences?hl=en&amp;sa=X&amp;ved=0ahUKEwihjaG7zrWAAxXAkYQIHbiSA0UQv5YECFU\">Settings</a></td><td><a class=\"rEM8G\" href=\"https://www.google.com/intl/en_us/policies/privacy/\">Privacy</a></td><td><a class=\"rEM8G\" href=\"https://www.google.com/intl/en_us/policies/terms/\">Terms</a></td></tr></tbody></table></div></div><div> </div></body></html>"
            ]
          },
          "metadata": {},
          "execution_count": 25
        }
      ]
    },
    {
      "cell_type": "code",
      "source": [
        "image_tag=soup.find_all(\"img\")\n",
        "image_tag"
      ],
      "metadata": {
        "colab": {
          "base_uri": "https://localhost:8080/"
        },
        "id": "y658obTmFwrV",
        "outputId": "754e4d41-2198-428f-c4b0-0549c9b5c366"
      },
      "execution_count": 27,
      "outputs": [
        {
          "output_type": "execute_result",
          "data": {
            "text/plain": [
              "[<img alt=\"Google\" class=\"kgJEQe\" src=\"/images/branding/searchlogo/1x/googlelogo_desk_heirloom_color_150x55dp.gif\"/>,\n",
              " <img alt=\"\" class=\"yWs4tf\" src=\"https://encrypted-tbn0.gstatic.com/images?q=tbn:ANd9GcSbs1hvzkhtzKJpoW1qsaJqmw-HNi4SIIR2HZhUO-hKmObfcrWKWFHaZ3IC6uk&amp;s\"/>,\n",
              " <img alt=\"\" class=\"yWs4tf\" src=\"https://encrypted-tbn0.gstatic.com/images?q=tbn:ANd9GcSJaopQF1rdWhwmr7m77uxo0VCYQTxkktn89EN7f9JqwLBW89SKMl2x7H7083k&amp;s\"/>,\n",
              " <img alt=\"\" class=\"yWs4tf\" src=\"https://encrypted-tbn0.gstatic.com/images?q=tbn:ANd9GcRx-Yb54zKfM4FiiRZ9f8qc1G1OT6t9dhtd2bMCNjAAhEfiv6tv7nYtt4ZbY6Q&amp;s\"/>,\n",
              " <img alt=\"\" class=\"yWs4tf\" src=\"https://encrypted-tbn0.gstatic.com/images?q=tbn:ANd9GcR8nKcmhegUl4AhTqFVo6Gj9xm_rEDRoIvpanEkJPYOInMVTrigdyjb8k43BQ&amp;s\"/>,\n",
              " <img alt=\"\" class=\"yWs4tf\" src=\"https://encrypted-tbn0.gstatic.com/images?q=tbn:ANd9GcQY_R5NSNoZkSlMo3hf86COGJ4fCv0s6Nx4k8uCGkWc6YGOn_m4-rIOQ3GhOhg&amp;s\"/>,\n",
              " <img alt=\"\" class=\"yWs4tf\" src=\"https://encrypted-tbn0.gstatic.com/images?q=tbn:ANd9GcQMTekpXsdQimyWEzTNJPNJIGrW8b2vKvoQaDbJDSfuZHQh29b-oKubE1bBYC0&amp;s\"/>,\n",
              " <img alt=\"\" class=\"yWs4tf\" src=\"https://encrypted-tbn0.gstatic.com/images?q=tbn:ANd9GcQpk3jJ86Eohb2rwfQR_GzzyHCIppuyGWtOXQkVsvfOwmJMdCpXGtK5TwjSgw&amp;s\"/>,\n",
              " <img alt=\"\" class=\"yWs4tf\" src=\"https://encrypted-tbn0.gstatic.com/images?q=tbn:ANd9GcRUNt-70ZeRtX94MTAGG_0jct8icPN38L_0vC8ub8XMMGdqXlbjk3aWVvEiX6c&amp;s\"/>,\n",
              " <img alt=\"\" class=\"yWs4tf\" src=\"https://encrypted-tbn0.gstatic.com/images?q=tbn:ANd9GcT8OIn5WlHeQaweeHJM3W_8Zx0uP8jmv5THBdUf7LOe2VviuXhFIyHjdwBqQkQ&amp;s\"/>,\n",
              " <img alt=\"\" class=\"yWs4tf\" src=\"https://encrypted-tbn0.gstatic.com/images?q=tbn:ANd9GcRQZseQ9bRxUwHLR5yk-VmJYFt7AuZKTqzI7n1im9SOTEk9qWAeEoQcfZ8l5g&amp;s\"/>,\n",
              " <img alt=\"\" class=\"yWs4tf\" src=\"https://encrypted-tbn0.gstatic.com/images?q=tbn:ANd9GcQEoGcTehPfBt44vuvC8wyJieRSiGKWqDO2UHbGG34cRttKR5nGr_NDLJHg_1s&amp;s\"/>,\n",
              " <img alt=\"\" class=\"yWs4tf\" src=\"https://encrypted-tbn0.gstatic.com/images?q=tbn:ANd9GcTvewo3-e7y-JsV16EL3q3EaMThVwCiuN7DD1_KTctFNodySZtMVcuOKk5uUQ&amp;s\"/>,\n",
              " <img alt=\"\" class=\"yWs4tf\" src=\"https://encrypted-tbn0.gstatic.com/images?q=tbn:ANd9GcQLZL5lO5MYW3zBlJ13qJ0p-Io1ReQNhDcAN47mTGOo1JWfXDFHMAI5opAausw&amp;s\"/>,\n",
              " <img alt=\"\" class=\"yWs4tf\" src=\"https://encrypted-tbn0.gstatic.com/images?q=tbn:ANd9GcQYT-beWXhhv_SWOWPN9WTqrBImmSSvhoow2B-381sc7q_Zq9z6qBWYujWvcw&amp;s\"/>,\n",
              " <img alt=\"\" class=\"yWs4tf\" src=\"https://encrypted-tbn0.gstatic.com/images?q=tbn:ANd9GcTTCwkrB0WHyxlEZoU7ose0__nvdx44368eqpGm-Hq9zk-rN9LTTplKFiJ-2cQ&amp;s\"/>,\n",
              " <img alt=\"\" class=\"yWs4tf\" src=\"https://encrypted-tbn0.gstatic.com/images?q=tbn:ANd9GcRgjtOpqKOBVVsskv9whJk8Eb-aZ-Emx59T4ieHAs80SwQU86PzA_yuxjRVE-A&amp;s\"/>,\n",
              " <img alt=\"\" class=\"yWs4tf\" src=\"https://encrypted-tbn0.gstatic.com/images?q=tbn:ANd9GcS6PtbO3oSFgC1yh6BPlre0Sr5h3aca6UrEmg7ibGUrD1g40Xm5cZBGYl7G3PU&amp;s\"/>,\n",
              " <img alt=\"\" class=\"yWs4tf\" src=\"https://encrypted-tbn0.gstatic.com/images?q=tbn:ANd9GcTajsryULnUhibLm7EAy_8EkoDdfDf-C3MgzuCkCs3my64MQcQxf4O63e74kEI&amp;s\"/>,\n",
              " <img alt=\"\" class=\"yWs4tf\" src=\"https://encrypted-tbn0.gstatic.com/images?q=tbn:ANd9GcT1Q-0CmrVfXGte1S5KxWDiRtt6djhyUzRP_tIhSGVZqmYd_tGTQH9EmMdXTQ&amp;s\"/>,\n",
              " <img alt=\"\" class=\"yWs4tf\" src=\"https://encrypted-tbn0.gstatic.com/images?q=tbn:ANd9GcQ91bYeYuNi93Snai-G61-ct5IkXUEpoeW1RpiOFFuRWggNeJf-7uN0OZsy5XI&amp;s\"/>]"
            ]
          },
          "metadata": {},
          "execution_count": 27
        }
      ]
    },
    {
      "cell_type": "code",
      "source": [
        "#list but ist element is not link\n",
        "del image_tag[0]\n",
        "image_tag"
      ],
      "metadata": {
        "colab": {
          "base_uri": "https://localhost:8080/"
        },
        "id": "xztKuYU_F9Zv",
        "outputId": "e727691c-9b4d-479f-9609-2dd2c603cec5"
      },
      "execution_count": 28,
      "outputs": [
        {
          "output_type": "execute_result",
          "data": {
            "text/plain": [
              "[<img alt=\"\" class=\"yWs4tf\" src=\"https://encrypted-tbn0.gstatic.com/images?q=tbn:ANd9GcSbs1hvzkhtzKJpoW1qsaJqmw-HNi4SIIR2HZhUO-hKmObfcrWKWFHaZ3IC6uk&amp;s\"/>,\n",
              " <img alt=\"\" class=\"yWs4tf\" src=\"https://encrypted-tbn0.gstatic.com/images?q=tbn:ANd9GcSJaopQF1rdWhwmr7m77uxo0VCYQTxkktn89EN7f9JqwLBW89SKMl2x7H7083k&amp;s\"/>,\n",
              " <img alt=\"\" class=\"yWs4tf\" src=\"https://encrypted-tbn0.gstatic.com/images?q=tbn:ANd9GcRx-Yb54zKfM4FiiRZ9f8qc1G1OT6t9dhtd2bMCNjAAhEfiv6tv7nYtt4ZbY6Q&amp;s\"/>,\n",
              " <img alt=\"\" class=\"yWs4tf\" src=\"https://encrypted-tbn0.gstatic.com/images?q=tbn:ANd9GcR8nKcmhegUl4AhTqFVo6Gj9xm_rEDRoIvpanEkJPYOInMVTrigdyjb8k43BQ&amp;s\"/>,\n",
              " <img alt=\"\" class=\"yWs4tf\" src=\"https://encrypted-tbn0.gstatic.com/images?q=tbn:ANd9GcQY_R5NSNoZkSlMo3hf86COGJ4fCv0s6Nx4k8uCGkWc6YGOn_m4-rIOQ3GhOhg&amp;s\"/>,\n",
              " <img alt=\"\" class=\"yWs4tf\" src=\"https://encrypted-tbn0.gstatic.com/images?q=tbn:ANd9GcQMTekpXsdQimyWEzTNJPNJIGrW8b2vKvoQaDbJDSfuZHQh29b-oKubE1bBYC0&amp;s\"/>,\n",
              " <img alt=\"\" class=\"yWs4tf\" src=\"https://encrypted-tbn0.gstatic.com/images?q=tbn:ANd9GcQpk3jJ86Eohb2rwfQR_GzzyHCIppuyGWtOXQkVsvfOwmJMdCpXGtK5TwjSgw&amp;s\"/>,\n",
              " <img alt=\"\" class=\"yWs4tf\" src=\"https://encrypted-tbn0.gstatic.com/images?q=tbn:ANd9GcRUNt-70ZeRtX94MTAGG_0jct8icPN38L_0vC8ub8XMMGdqXlbjk3aWVvEiX6c&amp;s\"/>,\n",
              " <img alt=\"\" class=\"yWs4tf\" src=\"https://encrypted-tbn0.gstatic.com/images?q=tbn:ANd9GcT8OIn5WlHeQaweeHJM3W_8Zx0uP8jmv5THBdUf7LOe2VviuXhFIyHjdwBqQkQ&amp;s\"/>,\n",
              " <img alt=\"\" class=\"yWs4tf\" src=\"https://encrypted-tbn0.gstatic.com/images?q=tbn:ANd9GcRQZseQ9bRxUwHLR5yk-VmJYFt7AuZKTqzI7n1im9SOTEk9qWAeEoQcfZ8l5g&amp;s\"/>,\n",
              " <img alt=\"\" class=\"yWs4tf\" src=\"https://encrypted-tbn0.gstatic.com/images?q=tbn:ANd9GcQEoGcTehPfBt44vuvC8wyJieRSiGKWqDO2UHbGG34cRttKR5nGr_NDLJHg_1s&amp;s\"/>,\n",
              " <img alt=\"\" class=\"yWs4tf\" src=\"https://encrypted-tbn0.gstatic.com/images?q=tbn:ANd9GcTvewo3-e7y-JsV16EL3q3EaMThVwCiuN7DD1_KTctFNodySZtMVcuOKk5uUQ&amp;s\"/>,\n",
              " <img alt=\"\" class=\"yWs4tf\" src=\"https://encrypted-tbn0.gstatic.com/images?q=tbn:ANd9GcQLZL5lO5MYW3zBlJ13qJ0p-Io1ReQNhDcAN47mTGOo1JWfXDFHMAI5opAausw&amp;s\"/>,\n",
              " <img alt=\"\" class=\"yWs4tf\" src=\"https://encrypted-tbn0.gstatic.com/images?q=tbn:ANd9GcQYT-beWXhhv_SWOWPN9WTqrBImmSSvhoow2B-381sc7q_Zq9z6qBWYujWvcw&amp;s\"/>,\n",
              " <img alt=\"\" class=\"yWs4tf\" src=\"https://encrypted-tbn0.gstatic.com/images?q=tbn:ANd9GcTTCwkrB0WHyxlEZoU7ose0__nvdx44368eqpGm-Hq9zk-rN9LTTplKFiJ-2cQ&amp;s\"/>,\n",
              " <img alt=\"\" class=\"yWs4tf\" src=\"https://encrypted-tbn0.gstatic.com/images?q=tbn:ANd9GcRgjtOpqKOBVVsskv9whJk8Eb-aZ-Emx59T4ieHAs80SwQU86PzA_yuxjRVE-A&amp;s\"/>,\n",
              " <img alt=\"\" class=\"yWs4tf\" src=\"https://encrypted-tbn0.gstatic.com/images?q=tbn:ANd9GcS6PtbO3oSFgC1yh6BPlre0Sr5h3aca6UrEmg7ibGUrD1g40Xm5cZBGYl7G3PU&amp;s\"/>,\n",
              " <img alt=\"\" class=\"yWs4tf\" src=\"https://encrypted-tbn0.gstatic.com/images?q=tbn:ANd9GcTajsryULnUhibLm7EAy_8EkoDdfDf-C3MgzuCkCs3my64MQcQxf4O63e74kEI&amp;s\"/>,\n",
              " <img alt=\"\" class=\"yWs4tf\" src=\"https://encrypted-tbn0.gstatic.com/images?q=tbn:ANd9GcT1Q-0CmrVfXGte1S5KxWDiRtt6djhyUzRP_tIhSGVZqmYd_tGTQH9EmMdXTQ&amp;s\"/>,\n",
              " <img alt=\"\" class=\"yWs4tf\" src=\"https://encrypted-tbn0.gstatic.com/images?q=tbn:ANd9GcQ91bYeYuNi93Snai-G61-ct5IkXUEpoeW1RpiOFFuRWggNeJf-7uN0OZsy5XI&amp;s\"/>]"
            ]
          },
          "metadata": {},
          "execution_count": 28
        }
      ]
    },
    {
      "cell_type": "code",
      "source": [
        "len(image_tag)"
      ],
      "metadata": {
        "colab": {
          "base_uri": "https://localhost:8080/"
        },
        "id": "FDMEnlccG316",
        "outputId": "b02cd7b2-f5da-4d7f-e8ea-3ba2cde8dd61"
      },
      "execution_count": 29,
      "outputs": [
        {
          "output_type": "execute_result",
          "data": {
            "text/plain": [
              "20"
            ]
          },
          "metadata": {},
          "execution_count": 29
        }
      ]
    },
    {
      "cell_type": "code",
      "source": [
        "for i in image_tag:\n",
        "  image_url=(i['src'])\n",
        "  image_data=requests.get(image_url).content\n",
        "  with open(os.path.join(save_dir,f\"{query}_{image_tag.index(i)}.jpg\") , \"wb\") as f:\n",
        "    f.write(image_data)\n"
      ],
      "metadata": {
        "id": "14B8s5j-HOFG"
      },
      "execution_count": 35,
      "outputs": []
    },
    {
      "cell_type": "code",
      "source": [],
      "metadata": {
        "id": "Sweq9udGHlm7"
      },
      "execution_count": null,
      "outputs": []
    }
  ]
}