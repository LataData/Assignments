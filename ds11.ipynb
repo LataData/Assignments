{
  "nbformat": 4,
  "nbformat_minor": 0,
  "metadata": {
    "colab": {
      "provenance": [],
      "authorship_tag": "ABX9TyMexmz/SpGQHkhG6dAbIRzo",
      "include_colab_link": true
    },
    "kernelspec": {
      "name": "python3",
      "display_name": "Python 3"
    },
    "language_info": {
      "name": "python"
    }
  },
  "cells": [
    {
      "cell_type": "markdown",
      "metadata": {
        "id": "view-in-github",
        "colab_type": "text"
      },
      "source": [
        "<a href=\"https://colab.research.google.com/github/LataData/Assignments/blob/main/ds11.ipynb\" target=\"_parent\"><img src=\"https://colab.research.google.com/assets/colab-badge.svg\" alt=\"Open In Colab\"/></a>"
      ]
    },
    {
      "cell_type": "markdown",
      "source": [
        "1.Given a non-negative integer x, return the square root of x rounded down to the nearest integer. The returned integer should be non-negative as well."
      ],
      "metadata": {
        "id": "ZIR85Ye3LjPy"
      }
    },
    {
      "cell_type": "code",
      "source": [
        "import math\n",
        "def squareroot(n):\n",
        "  if n<=0:\n",
        "    return \"enter positive number\"\n",
        "  if n<2:\n",
        "    return n\n",
        "  s=1\n",
        "  e=n\n",
        "  while s<=e:\n",
        "    m=(s+e)/2\n",
        "    if m*m==n or abs(m*m-n)<0.00001:\n",
        "      return m\n",
        "    if m*m<n:\n",
        "      s=m #special scenario not updating s=m-1\n",
        "    if m*m>n:\n",
        "      e=m  #special scenario not updating e=m+1\n",
        "  return m\n",
        "z=squareroot(8)\n",
        "print(z)\n",
        "math.floor(z)\n"
      ],
      "metadata": {
        "colab": {
          "base_uri": "https://localhost:8080/"
        },
        "id": "LgQIvd9ULxoR",
        "outputId": "0550ed80-df92-4fef-a1b9-105f70a399d1"
      },
      "execution_count": null,
      "outputs": [
        {
          "output_type": "stream",
          "name": "stdout",
          "text": [
            "2.8284263610839844\n"
          ]
        },
        {
          "output_type": "execute_result",
          "data": {
            "text/plain": [
              "2"
            ]
          },
          "metadata": {},
          "execution_count": 41
        }
      ]
    },
    {
      "cell_type": "markdown",
      "source": [
        "2.A peak element is an element that is strictly greater than its neighbors.\n",
        "\n",
        "Given a **0-indexed** integer array `nums`, find a peak element, and return its index. If the array contains multiple peaks, return the index to **any of the peaks**.  Time :O(logn)"
      ],
      "metadata": {
        "id": "ymbfoQXDTtEv"
      }
    },
    {
      "cell_type": "code",
      "source": [
        "def findpeakelement(arr):\n",
        "  s=0\n",
        "  e=len(arr)-1\n",
        "  while(s<=e):\n",
        "    m=(s+e)//2\n",
        "    #print(s,m,e)\n",
        "  \n",
        "    if arr[m]>arr[m-1] and arr[m]>arr[m+1]:\n",
        "      return m\n",
        "    if arr[m]<arr[m-1]:\n",
        "      e=m-1\n",
        "    if arr[m]<arr[m+1]:\n",
        "      s=m+1\n",
        "  return -1\n",
        "#findpeakelement([1,2,3,1])\n",
        "findpeakelement([1,2,1,3,5,6,4])\n",
        "\n",
        "\n",
        "\n"
      ],
      "metadata": {
        "colab": {
          "base_uri": "https://localhost:8080/"
        },
        "id": "qBDAgb8TM_4T",
        "outputId": "590d8321-2ab5-4793-84ef-1d1402d82c6a"
      },
      "execution_count": null,
      "outputs": [
        {
          "output_type": "execute_result",
          "data": {
            "text/plain": [
              "5"
            ]
          },
          "metadata": {},
          "execution_count": 49
        }
      ]
    },
    {
      "cell_type": "markdown",
      "source": [
        "3.Given an array nums containing n distinct numbers in the range [0, n], return the only number in the range that is missing from the array."
      ],
      "metadata": {
        "id": "swwzX7j0ZJJ-"
      }
    },
    {
      "cell_type": "code",
      "source": [
        "def findmissing(arr):\n",
        "  s=0\n",
        "  e=len(arr)-1\n",
        "  \n",
        "  while s<=e:\n",
        "    m=(s+e)//2\n",
        "    if m<arr[m]:\n",
        "      #print(m)\n",
        "      e=m-1\n",
        "    if m>=arr[m]:\n",
        "      s=m+1\n",
        "  return s\n",
        "print(findmissing([0,1,2,3,4,5,7]))\n",
        "print(findmissing([0,1,2,3,5,6]))\n",
        "print(findmissing([0,1]))\n",
        "print(findmissing([0,1,3]))\n",
        "      "
      ],
      "metadata": {
        "id": "f6m3eZ-JWCSk",
        "colab": {
          "base_uri": "https://localhost:8080/"
        },
        "outputId": "add500d0-2e97-4a87-fb68-7ec04e13cafa"
      },
      "execution_count": null,
      "outputs": [
        {
          "output_type": "stream",
          "name": "stdout",
          "text": [
            "6\n",
            "4\n",
            "2\n",
            "2\n"
          ]
        }
      ]
    },
    {
      "cell_type": "markdown",
      "source": [
        "4.Given an array of integers `nums` sorted in non-decreasing order, find the starting and ending position of a given `target` value.\n",
        "\n",
        "If `target` is not found in the array, return `[-1, -1]`.\n",
        "\n",
        "You must write an algorithm with `O(log n)` runtime complexity."
      ],
      "metadata": {
        "id": "6RIPBrFL7Xc2"
      }
    },
    {
      "cell_type": "code",
      "source": [
        "def findtarget(arr,target):\n",
        "  s=0\n",
        "  e=len(arr)-1\n",
        "  ans=[-1,-1]\n",
        "  while s<=e:\n",
        "    m=(s+e)//2\n",
        "    if target<arr[m]:\n",
        "      #print(m)\n",
        "      e=m-1\n",
        "    if target>arr[m]:\n",
        "      s=m+1\n",
        "    if target==arr[m]:\n",
        "      #print(m)\n",
        "      if m!=0:\n",
        "        ans[0]=findfirst(arr,s,m,target)\n",
        "        #print(ans[0])\n",
        "      else:\n",
        "        ans[0]=0\n",
        "      if m!=len(arr)-1:\n",
        "        ans[1]=findlast(arr,m,e,target)\n",
        "      else:\n",
        "        ans[1]=m\n",
        "      #print(ans[1])\n",
        "      return ans\n",
        "  return ans\n",
        "def findfirst(arr,s,m,target):\n",
        "  while arr[s]!=target and s<=m:\n",
        "    s=s+1\n",
        "  #print (s)\n",
        "  return s\n",
        "def findlast(arr,m,e,target):\n",
        "  while arr[m]==target and m<=e:\n",
        "    m=m+1\n",
        "  return m-1\n",
        " \n",
        "      \n",
        "    \n",
        "arr=[5,7,7,8,8,10]\n",
        "target1=8\n",
        "target2=6\n",
        "ans=findtarget(arr,target1)\n",
        "print(ans)\n",
        "ans=findtarget(arr,target2) \n",
        "print(ans)\n",
        "\n",
        "  \n",
        "\n",
        "       \n",
        "   \n",
        "\n",
        "\n"
      ],
      "metadata": {
        "id": "Rpg8SphM2k-v",
        "colab": {
          "base_uri": "https://localhost:8080/",
          "height": 0
        },
        "outputId": "1cfcaa6f-4d07-46d6-ece4-fc6531f015bd"
      },
      "execution_count": 30,
      "outputs": [
        {
          "output_type": "stream",
          "name": "stdout",
          "text": [
            "[3, 4]\n",
            "[-1, -1]\n"
          ]
        }
      ]
    },
    {
      "cell_type": "markdown",
      "source": [
        "5.Given the sorted rotated array nums of unique elements, return the minimum element of this array."
      ],
      "metadata": {
        "id": "Q2Icn9IFfKPx"
      }
    },
    {
      "cell_type": "code",
      "source": [
        "def findmin(arr):\n",
        "  s=0\n",
        "  e=len(arr)-1\n",
        "  while s<=e:\n",
        "    m=(s+e)//2\n",
        "    if arr[m]<arr[m-1] and arr[m]<arr[m+1]:\n",
        "      return arr[m]\n",
        "    elif arr[m]<arr[e]:\n",
        "      e=m-1\n",
        "    else:\n",
        "      s=m+1\n",
        "print(findmin([4,5,6,7,0,1,2]))\n",
        "print(findmin([3,4,5,1,2]))\n",
        "\n",
        "    "
      ],
      "metadata": {
        "colab": {
          "base_uri": "https://localhost:8080/",
          "height": 0
        },
        "id": "fpKP3P1_d9To",
        "outputId": "f7040701-3b75-4f10-af1d-6c519e3971d1"
      },
      "execution_count": 34,
      "outputs": [
        {
          "output_type": "stream",
          "name": "stdout",
          "text": [
            "0\n",
            "1\n"
          ]
        }
      ]
    },
    {
      "cell_type": "code",
      "source": [],
      "metadata": {
        "id": "I5K_Pqq2hs1S"
      },
      "execution_count": null,
      "outputs": []
    }
  ]
}