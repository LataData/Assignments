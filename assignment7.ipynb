{
  "nbformat": 4,
  "nbformat_minor": 0,
  "metadata": {
    "colab": {
      "provenance": [],
      "authorship_tag": "ABX9TyMJZiwSWHpGSGx0Kre6+fRl",
      "include_colab_link": true
    },
    "kernelspec": {
      "name": "python3",
      "display_name": "Python 3"
    },
    "language_info": {
      "name": "python"
    }
  },
  "cells": [
    {
      "cell_type": "markdown",
      "metadata": {
        "id": "view-in-github",
        "colab_type": "text"
      },
      "source": [
        "<a href=\"https://colab.research.google.com/github/LataData/Assignments/blob/main/assignment7.ipynb\" target=\"_parent\"><img src=\"https://colab.research.google.com/assets/colab-badge.svg\" alt=\"Open In Colab\"/></a>"
      ]
    },
    {
      "cell_type": "markdown",
      "source": [
        "Q.1. Create two int type variables, apply addition, subtraction, division and multiplications\n",
        "and store the results in variables. Then print the data in the following format by calling the\n",
        "variables:\n",
        "\n",
        "First variable is __ & second variable is __.\n",
        "Addition: __ + __ = __\n",
        "Subtraction: __ - __ = __\n",
        "Multiplication: __ * __ = __\n",
        "Division: __ / __ = __"
      ],
      "metadata": {
        "id": "mMi1F3UxZZ87"
      }
    },
    {
      "cell_type": "code",
      "source": [
        "a=5\n",
        "b=7\n",
        "sum=a+b\n",
        "sub=a-b\n",
        "div=a/b\n",
        "mul=a*b\n",
        "print(\"First variable is {0} & second variable is {1}\".format(a,b))\n",
        "print(\"Addition: {0}+ {1} = {2}\".format(a,b,sum))\n",
        "print(\"Subtraction: {0}- {1} = {2}\".format(a,b,sub))\n",
        "print(\"Multiplication: {0}* {1} = {2}\".format(a,b,mul))\n",
        "print(\"Division: {0}/ {1} = {2}\".format(a,b,div))"
      ],
      "metadata": {
        "colab": {
          "base_uri": "https://localhost:8080/"
        },
        "id": "3EskfAwpZlo9",
        "outputId": "983bed9c-8fbd-4070-af7c-8929fba50e3a"
      },
      "execution_count": 2,
      "outputs": [
        {
          "output_type": "stream",
          "name": "stdout",
          "text": [
            "First variable is 5 & second variable is 7\n",
            "Addition: 5+ 7 = 12\n",
            "Subtraction: 5- 7 = -2\n",
            "Multiplication: 5* 7 = 35\n",
            "Division: 5/ 7 = 0.7142857142857143\n"
          ]
        }
      ]
    },
    {
      "cell_type": "markdown",
      "source": [
        "Q.2. What is the difference between the following operators:\n",
        "\n",
        "(i) ‘/’ --This is used for division operation \n",
        "\n",
        "     ‘//’--This denotes floor division i.e quotient of the division is rounded off to nearest integer ex:9/4=2.25 and 9//4=2\n",
        "\n",
        "\n"
      ],
      "metadata": {
        "id": "fOjZBg24bLsY"
      }
    },
    {
      "cell_type": "code",
      "source": [
        "#(ii) ‘**’  Denotes exponent operator. Ex     2**3=8\n",
        " #    ‘^’    Denotes bitwise Xor operator: EX:9^4 =13  in binary (1001)^(0100)=(1101)"
      ],
      "metadata": {
        "id": "2BPCRdsWaCWJ"
      },
      "execution_count": 8,
      "outputs": []
    },
    {
      "cell_type": "markdown",
      "source": [
        "Q.3. List the logical operators.\n",
        "\n",
        "and , or ,not\n",
        "\n",
        "Q.4. Explain right shift operator and left shift operator with examples.\n",
        "\n",
        "Right Shift Operator >>: Shifts the bits of the number to the right by the number of bits specified and fill with zero .Each shift to the right corresponds to dividing the number by 2.\n",
        "\n",
        "a = 4    in binary: 100 \n",
        "\n",
        " a >> 2   result is 1 (in binary: 001)\n",
        "\n",
        "Left Shift Operator <<: Shifts the bits of the number to the left by the number of bits specified. Each shift to the left corresponds to multiplying the number by 2.\n",
        "\n",
        "a = 4    in binary: 100 \n",
        "\n",
        " a >> 2   result is 16 (in binary: 10000)"
      ],
      "metadata": {
        "id": "lqH_T6-BeS3q"
      }
    },
    {
      "cell_type": "code",
      "source": [
        "#Q.5. Create a list containing int type data of length 15. Then write a code to check if 10 is\n",
        "#present in the list or not.\n",
        "a=[i for i in range(1,16)]\n",
        "if 10 in a:\n",
        "  print(\"present\")\n",
        "else:\n",
        "  print(\"not present\")"
      ],
      "metadata": {
        "colab": {
          "base_uri": "https://localhost:8080/"
        },
        "id": "Onk1dfG5gHb1",
        "outputId": "c275e48d-b183-4b79-f7a7-9cfc9458ed90"
      },
      "execution_count": 9,
      "outputs": [
        {
          "output_type": "stream",
          "name": "stdout",
          "text": [
            "present\n"
          ]
        }
      ]
    },
    {
      "cell_type": "code",
      "source": [],
      "metadata": {
        "id": "tp1zbXwIggEZ"
      },
      "execution_count": null,
      "outputs": []
    }
  ]
}