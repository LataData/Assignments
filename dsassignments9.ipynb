{
  "nbformat": 4,
  "nbformat_minor": 0,
  "metadata": {
    "colab": {
      "provenance": [],
      "authorship_tag": "ABX9TyMBxfwIVYZ+2fltkZDNAT09",
      "include_colab_link": true
    },
    "kernelspec": {
      "name": "python3",
      "display_name": "Python 3"
    },
    "language_info": {
      "name": "python"
    }
  },
  "cells": [
    {
      "cell_type": "markdown",
      "metadata": {
        "id": "view-in-github",
        "colab_type": "text"
      },
      "source": [
        "<a href=\"https://colab.research.google.com/github/LataData/Assignments/blob/main/dsassignments9.ipynb\" target=\"_parent\"><img src=\"https://colab.research.google.com/assets/colab-badge.svg\" alt=\"Open In Colab\"/></a>"
      ]
    },
    {
      "cell_type": "markdown",
      "source": [
        "Given an integer n, return true if it is a power of two. Otherwise, return false"
      ],
      "metadata": {
        "id": "A7OeNk6O0Elm"
      }
    },
    {
      "cell_type": "code",
      "source": [
        "def poweroftwo(n):\n",
        "  if(n==1):\n",
        "    return True\n",
        "  if (n>1 and n%2!=0):\n",
        "    return False\n",
        "  return (poweroftwo(n//2))\n",
        "poweroftwo(1024)"
      ],
      "metadata": {
        "colab": {
          "base_uri": "https://localhost:8080/"
        },
        "id": "02WU4u220LdF",
        "outputId": "bff66674-388d-4b2d-f09e-0fb6580204be"
      },
      "execution_count": 3,
      "outputs": [
        {
          "output_type": "execute_result",
          "data": {
            "text/plain": [
              "True"
            ]
          },
          "metadata": {},
          "execution_count": 3
        }
      ]
    },
    {
      "cell_type": "markdown",
      "source": [
        "2.Given a number n, find the sum of the first natural numbers."
      ],
      "metadata": {
        "id": "Z5diA_IR0Eo4"
      }
    },
    {
      "cell_type": "code",
      "source": [
        "def sumofn(n):\n",
        "  if n<0:\n",
        "    return \"enter positive number\"\n",
        "  if n==0:\n",
        "    return 0\n",
        "  else:\n",
        "    return (n+sumofn(n-1))\n",
        "sumofn(4)"
      ],
      "metadata": {
        "colab": {
          "base_uri": "https://localhost:8080/",
          "height": 35
        },
        "id": "i1UTcx5u1NLi",
        "outputId": "f509f34b-3061-4029-a173-4b6337a812c4"
      },
      "execution_count": 6,
      "outputs": [
        {
          "output_type": "execute_result",
          "data": {
            "text/plain": [
              "'enter positive number'"
            ],
            "application/vnd.google.colaboratory.intrinsic+json": {
              "type": "string"
            }
          },
          "metadata": {},
          "execution_count": 6
        }
      ]
    },
    {
      "cell_type": "markdown",
      "source": [
        "3.Given a positive integer, N. Find the factorial of N"
      ],
      "metadata": {
        "id": "PVefdb0D1t-5"
      }
    },
    {
      "cell_type": "code",
      "source": [
        "def factorial(n):\n",
        "   if n<0:\n",
        "    return \"enter positive number\"\n",
        "   if n==1:\n",
        "    return 1\n",
        "   return (n*factorial(n-1))\n",
        "factorial(5)\n",
        "  \n",
        " "
      ],
      "metadata": {
        "colab": {
          "base_uri": "https://localhost:8080/"
        },
        "id": "98cUQ9wI1d58",
        "outputId": "eda18ec5-f55d-48fa-d529-7f694d39a930"
      },
      "execution_count": 9,
      "outputs": [
        {
          "output_type": "execute_result",
          "data": {
            "text/plain": [
              "120"
            ]
          },
          "metadata": {},
          "execution_count": 9
        }
      ]
    },
    {
      "cell_type": "markdown",
      "source": [
        "4.Given a number N and a power P, the task is to find the exponent of this number raised to the given power, i.e. N^P."
      ],
      "metadata": {
        "id": "PAJQPLky3M4H"
      }
    },
    {
      "cell_type": "code",
      "source": [
        "def findexponent(n,p):\n",
        "  \n",
        "  if p==0:\n",
        "    return 1\n",
        "  return (n*findexponent(n,p-1))\n",
        "findexponent(5,2)"
      ],
      "metadata": {
        "colab": {
          "base_uri": "https://localhost:8080/"
        },
        "id": "NuVXtFwK2y2S",
        "outputId": "bfea1f2d-951a-4d84-9cb4-082d9f3c52c3"
      },
      "execution_count": 11,
      "outputs": [
        {
          "output_type": "execute_result",
          "data": {
            "text/plain": [
              "25"
            ]
          },
          "metadata": {},
          "execution_count": 11
        }
      ]
    },
    {
      "cell_type": "markdown",
      "source": [
        "5.Given an array of integers arr, the task is to find maximum element of that array using recursion."
      ],
      "metadata": {
        "id": "xoVqnWsg4LEA"
      }
    },
    {
      "cell_type": "code",
      "source": [
        "def findmax(arr,n):\n",
        "  if n==1:\n",
        "    return arr[0]\n",
        "  return max(arr[n-1],findmax(arr,n-1))\n",
        "findmax([1,2,3],3)\n",
        "  "
      ],
      "metadata": {
        "colab": {
          "base_uri": "https://localhost:8080/"
        },
        "id": "rIzon2M336H_",
        "outputId": "d9a4a90d-c32b-493d-c3b5-a31f74082ea6"
      },
      "execution_count": 12,
      "outputs": [
        {
          "output_type": "execute_result",
          "data": {
            "text/plain": [
              "3"
            ]
          },
          "metadata": {},
          "execution_count": 12
        }
      ]
    },
    {
      "cell_type": "markdown",
      "source": [
        "8.Given an array, find a product of all array elements"
      ],
      "metadata": {
        "id": "-GPXUUxq6s2F"
      }
    },
    {
      "cell_type": "code",
      "source": [
        "def prod(arr,n):\n",
        "  if n==0:\n",
        "    return arr[0]\n",
        "  return arr[n-1]*prod(arr,n-1)\n",
        "prod([1,2,3],3)"
      ],
      "metadata": {
        "colab": {
          "base_uri": "https://localhost:8080/"
        },
        "id": "Z0veite56S8D",
        "outputId": "51fb9463-1346-473e-841a-fcd99a90d025"
      },
      "execution_count": 14,
      "outputs": [
        {
          "output_type": "execute_result",
          "data": {
            "text/plain": [
              "6"
            ]
          },
          "metadata": {},
          "execution_count": 14
        }
      ]
    },
    {
      "cell_type": "markdown",
      "source": [
        "6.Given first term (a), common difference (d) and a integer N of the Arithmetic Progression series, the task is to find Nth term of the series."
      ],
      "metadata": {
        "id": "oAOm6ple7fN1"
      }
    },
    {
      "cell_type": "code",
      "source": [
        "def ap(a,d,n):\n",
        "  if n==1:\n",
        "    return 1\n",
        "  return (d+ap(a,d,n-1))\n",
        "ap(2,1,5)"
      ],
      "metadata": {
        "colab": {
          "base_uri": "https://localhost:8080/"
        },
        "id": "oP6dQ9je7AhG",
        "outputId": "e3b483d4-8cd8-4cab-a1a8-25b3cc87da29"
      },
      "execution_count": 16,
      "outputs": [
        {
          "output_type": "execute_result",
          "data": {
            "text/plain": [
              "5"
            ]
          },
          "metadata": {},
          "execution_count": 16
        }
      ]
    },
    {
      "cell_type": "code",
      "source": [],
      "metadata": {
        "id": "0R_Pv1m98T9O"
      },
      "execution_count": null,
      "outputs": []
    }
  ]
}