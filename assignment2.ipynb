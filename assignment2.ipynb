{
  "nbformat": 4,
  "nbformat_minor": 0,
  "metadata": {
    "colab": {
      "provenance": [],
      "authorship_tag": "ABX9TyPfa+pKYrNfm2eKU0y22TGA",
      "include_colab_link": true
    },
    "kernelspec": {
      "name": "python3",
      "display_name": "Python 3"
    },
    "language_info": {
      "name": "python"
    }
  },
  "cells": [
    {
      "cell_type": "markdown",
      "metadata": {
        "id": "view-in-github",
        "colab_type": "text"
      },
      "source": [
        "<a href=\"https://colab.research.google.com/github/LataData/Assignments/blob/main/assignment2.ipynb\" target=\"_parent\"><img src=\"https://colab.research.google.com/assets/colab-badge.svg\" alt=\"Open In Colab\"/></a>"
      ]
    },
    {
      "cell_type": "code",
      "execution_count": null,
      "metadata": {
        "id": "8Ery20gXgrYE"
      },
      "outputs": [],
      "source": []
    },
    {
      "cell_type": "markdown",
      "source": [
        "1.What are the two values of the Boolean data type? How do you write them?\n",
        "\n",
        "\n",
        "   Boolean data type takes value of True ,False. It is written as True ,False\n",
        "     ex.one=True  Two=False\n",
        "\n",
        "2. What are the three different types of Boolean operators?\n",
        "\n",
        " Boolean operators are—  and,or,not.\n",
        "3. Make a list of each Boolean operator's truth tables (i.e. every possible combination of Boolean values for the operator and what it evaluates ).\n",
        "\n",
        "True and True | True\n",
        "\n",
        "False and True | False\n",
        "\n",
        "True and False | False\n",
        "\n",
        "False and False | False\n",
        "\n",
        "True or True | True\n",
        "\n",
        "False or True | True\n",
        "\n",
        "True or False | True\n",
        "\n",
        "False or False | False \n",
        "\n",
        "Not True | False\n",
        "\n",
        "Not False | True\n",
        "\n",
        "\n",
        "\n",
        "4. What are the values of the following expressions?\n",
        "(5 > 4) and (3 == 5)   False\n",
        "\n",
        "not (5 > 4) False\n",
        "\n",
        "(5 > 4) or (3 == 5) True\n",
        "\n",
        "not ((5 > 4) or (3 == 5)) False\n",
        "\n",
        "(True and True) and (True == False) False\n",
        "\n",
        "(not False) or (not True) True\n",
        "\n",
        "5. What are the six comparison operators?\n",
        ">,<,<=,>=,==,!=\n",
        "6. How do you tell the difference between the equal to and assignment operators?Describe a condition and when you would use one.\n",
        "\n",
        "Equal to is a comparison operator which is used to check if two values are exactly same.If two values are same then expression evaluate to True  otherwise False  ex : 2==2 it will evaluate to True and 3==4 will evaluate to false\n",
        "\n",
        "Assignment operator is used to store some value in variable ex:a=’tom’\n",
        "\n",
        "7. Identify the three blocks in this code:\n",
        "\n",
        "spam = 0\n",
        "\n",
        "if spam == 10:    First blocks starts here \n",
        "\n",
        "print('eggs')\n",
        "\n",
        "if spam > 5:   Second blocks starts here\n",
        "\n",
        "print('bacon')\n",
        "\n",
        "else:               Third blocks starts here\n",
        "\n",
        "print('ham')\n",
        "\n",
        "print('spam')\n",
        "\n",
        "print('spam')\n",
        "\n",
        "\n"
      ],
      "metadata": {
        "id": "27kF1HFsgsXm"
      }
    },
    {
      "cell_type": "code",
      "source": [
        "#8. Write code that prints Hello if 1 is stored in spam, prints Howdy if 2 is stored in spam, and prints Greetings! if anything else is stored in spam."
      ],
      "metadata": {
        "id": "Nj2mnSW6hulW"
      },
      "execution_count": 1,
      "outputs": []
    },
    {
      "cell_type": "code",
      "source": [
        "spam=int(input(\"enter value of spam \"))\n",
        "if spam==1:\n",
        "  print('Hello')\n",
        "elif spam==2:\n",
        "  print('Howdy')\n",
        "else:\n",
        "  print('Greetings!')"
      ],
      "metadata": {
        "colab": {
          "base_uri": "https://localhost:8080/"
        },
        "id": "IX7iJWK1h2cn",
        "outputId": "6de38a8b-afea-4fa6-98d6-71d0a85af39b"
      },
      "execution_count": 8,
      "outputs": [
        {
          "output_type": "stream",
          "name": "stdout",
          "text": [
            "enter value of spam 9\n",
            "Greetings!\n"
          ]
        }
      ]
    },
    {
      "cell_type": "markdown",
      "source": [
        "9.If your programme is stuck in an endless loop, what keys you’ll press?  \n",
        "Ctrl+c"
      ],
      "metadata": {
        "id": "G_gFRZncj5_z"
      }
    },
    {
      "cell_type": "markdown",
      "source": [
        "10. How can you tell the difference between break and continue? \n",
        "\n",
        "Break is used to come out of the loop and continue is used to start from begining of the loop without executing the steps below continue"
      ],
      "metadata": {
        "id": "4zLObwbSkE0F"
      }
    },
    {
      "cell_type": "code",
      "source": [
        "for i in [1,2,3]:\n",
        "  print(i)\n",
        "  if i==2:\n",
        "    break"
      ],
      "metadata": {
        "colab": {
          "base_uri": "https://localhost:8080/"
        },
        "id": "5RKvDa-8kmho",
        "outputId": "5e4eed90-d695-4e53-b6da-057094206f56"
      },
      "execution_count": 10,
      "outputs": [
        {
          "output_type": "stream",
          "name": "stdout",
          "text": [
            "1\n",
            "2\n"
          ]
        }
      ]
    },
    {
      "cell_type": "code",
      "source": [
        "for i in [1,2,3]:\n",
        "  if i==2:\n",
        "    continue\n",
        "  print(i)"
      ],
      "metadata": {
        "colab": {
          "base_uri": "https://localhost:8080/"
        },
        "id": "f_IiNhvSk0qM",
        "outputId": "575e920d-0626-4792-c397-c82763c3505b"
      },
      "execution_count": 12,
      "outputs": [
        {
          "output_type": "stream",
          "name": "stdout",
          "text": [
            "1\n",
            "3\n"
          ]
        }
      ]
    },
    {
      "cell_type": "code",
      "source": [
        "#11. In a for loop, what is the difference between range(10), range(0, 10), and range(0, 10, 1)?\n",
        "for i in range(10):\n",
        "  print(i)\n",
        "#print 0 to 9\n",
        "print(\"range(0,10)\")\n",
        "for i in range(0,10):\n",
        "  print(i)\n",
        "#print 0 to 9\n",
        "print(\"range(0,10,1)\")\n",
        "for i in range(0,10,1):\n",
        "  print(i)\n",
        "#print 0 to 9\n",
        "#they all are equivalent and prints 0-9"
      ],
      "metadata": {
        "colab": {
          "base_uri": "https://localhost:8080/"
        },
        "id": "n-d2uoQKk9S1",
        "outputId": "f76de987-1f4a-477b-adfb-3366741b64eb"
      },
      "execution_count": 14,
      "outputs": [
        {
          "output_type": "stream",
          "name": "stdout",
          "text": [
            "0\n",
            "1\n",
            "2\n",
            "3\n",
            "4\n",
            "5\n",
            "6\n",
            "7\n",
            "8\n",
            "9\n",
            "range(0,10)\n",
            "0\n",
            "1\n",
            "2\n",
            "3\n",
            "4\n",
            "5\n",
            "6\n",
            "7\n",
            "8\n",
            "9\n",
            "range(0,10,1)\n",
            "0\n",
            "1\n",
            "2\n",
            "3\n",
            "4\n",
            "5\n",
            "6\n",
            "7\n",
            "8\n",
            "9\n"
          ]
        }
      ]
    },
    {
      "cell_type": "markdown",
      "source": [
        "Write a short program that prints the numbers 1 to 10 using a for loop. Then write an equivalent program that prints the numbers 1 to 10 using a while loop."
      ],
      "metadata": {
        "id": "Q1ilKroOmBZL"
      }
    },
    {
      "cell_type": "code",
      "source": [
        "for i in range(1,11):\n",
        "  print(i)\n",
        "print(\"using while\")\n",
        "a=11\n",
        "i=1\n",
        "while i<a:\n",
        "  print(i)\n",
        "  i=i+1"
      ],
      "metadata": {
        "colab": {
          "base_uri": "https://localhost:8080/"
        },
        "id": "Zm1CFsD_mGHj",
        "outputId": "e4c63cf2-868c-4559-de88-c3c1da7ae2c5"
      },
      "execution_count": 16,
      "outputs": [
        {
          "output_type": "stream",
          "name": "stdout",
          "text": [
            "1\n",
            "2\n",
            "3\n",
            "4\n",
            "5\n",
            "6\n",
            "7\n",
            "8\n",
            "9\n",
            "10\n",
            "using while\n",
            "1\n",
            "2\n",
            "3\n",
            "4\n",
            "5\n",
            "6\n",
            "7\n",
            "8\n",
            "9\n",
            "10\n"
          ]
        }
      ]
    },
    {
      "cell_type": "markdown",
      "source": [
        "13. If you had a function named bacon() inside a module named spam, how would you call it after importing spam?\n",
        "\n",
        " import spam\n",
        " \n",
        "a=spam.bacon(7)"
      ],
      "metadata": {
        "id": "iUSocYdumx6M"
      }
    },
    {
      "cell_type": "code",
      "source": [],
      "metadata": {
        "id": "HJCGdkLfmg-5"
      },
      "execution_count": null,
      "outputs": []
    }
  ]
}