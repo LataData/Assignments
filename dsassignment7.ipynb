{
  "nbformat": 4,
  "nbformat_minor": 0,
  "metadata": {
    "colab": {
      "provenance": [],
      "authorship_tag": "ABX9TyMfDtV3W71vdqggAP3ER9OM",
      "include_colab_link": true
    },
    "kernelspec": {
      "name": "python3",
      "display_name": "Python 3"
    },
    "language_info": {
      "name": "python"
    }
  },
  "cells": [
    {
      "cell_type": "markdown",
      "metadata": {
        "id": "view-in-github",
        "colab_type": "text"
      },
      "source": [
        "<a href=\"https://colab.research.google.com/github/LataData/Assignments/blob/main/dsassignment7.ipynb\" target=\"_parent\"><img src=\"https://colab.research.google.com/assets/colab-badge.svg\" alt=\"Open In Colab\"/></a>"
      ]
    },
    {
      "cell_type": "markdown",
      "source": [
        "Given two strings s1 and s2, return *the lowest **ASCII** sum of deleted characters to make two strings equal*.\n",
        "\n",
        "**Example 1:**\n",
        "\n",
        "**Input:** s1 = \"sea\", s2 = \"eat\"\n",
        "\n",
        "**Output:** 231\n",
        "\n",
        "**Explanation:** Deleting \"s\" from \"sea\" adds the ASCII value of \"s\" (115) to the sum.\n",
        "\n",
        "Deleting \"t\" from \"eat\" adds 116 to the sum.\n",
        "\n",
        "At the end, both strings are equal, and 115 + 116 = 231 is the minimum sum possible to achieve this."
      ],
      "metadata": {
        "id": "q0lE1WUna0fx"
      }
    },
    {
      "cell_type": "code",
      "source": [
        "def charnotpresent(s1,s2):\n",
        "  a=set(s1)\n",
        "  b=set(s2)\n",
        "  c=a.difference(b)\n",
        "  d=b.difference(a)\n",
        "  e=(c.union(d))\n",
        "  sum=0\n",
        "  for i in e:\n",
        "    sum=sum+ord(i)\n",
        "\n",
        "  return (sum)\n",
        "charnotpresent('sea','eat')"
      ],
      "metadata": {
        "colab": {
          "base_uri": "https://localhost:8080/"
        },
        "id": "3rSgC0DVm2ol",
        "outputId": "7d4ae013-b0a0-4d71-d67b-2dd3315e4cdd"
      },
      "execution_count": 8,
      "outputs": [
        {
          "output_type": "execute_result",
          "data": {
            "text/plain": [
              "231"
            ]
          },
          "metadata": {},
          "execution_count": 8
        }
      ]
    },
    {
      "cell_type": "markdown",
      "source": [
        "Given a string s containing only three types of characters: '(', ')' and '*', return true *if* s *is **valid***.\n",
        "\n",
        "The following rules define a **valid** string:\n",
        "\n",
        "- Any left parenthesis '(' must have a corresponding right parenthesis ')'.\n",
        "- Any right parenthesis ')' must have a corresponding left parenthesis '('.\n",
        "- Left parenthesis '(' must go before the corresponding right parenthesis ')'.\n",
        "- '*' could be treated as a single right parenthesis ')' or a single left parenthesis '(' or an empty string \"\".\n",
        "\n",
        "**Example 1:**\n",
        "\n",
        "**Input:** s = \"()\"\n",
        "\n",
        "**Output:**\n",
        "\n",
        "true"
      ],
      "metadata": {
        "id": "OeOnoEIgqwvf"
      }
    },
    {
      "cell_type": "code",
      "source": [
        "def threechar(s):\n",
        "  count=0\n",
        "  for c in s:\n",
        "    if c=='(':\n",
        "      count-=1\n",
        "    if c==')' and count<0:\n",
        "      count+=1\n",
        "    if c!='(' and c!=')' and c!='*':\n",
        "      return False\n",
        "\n",
        "  if count==0:\n",
        "    return True\n",
        "  else:\n",
        "    return False\n",
        "threechar(\"((*)(\")\n",
        "\n",
        "\n"
      ],
      "metadata": {
        "colab": {
          "base_uri": "https://localhost:8080/"
        },
        "id": "TzSie3Q6o1bU",
        "outputId": "8ca294e5-946e-451a-aa05-15e785d34f14"
      },
      "execution_count": 16,
      "outputs": [
        {
          "output_type": "execute_result",
          "data": {
            "text/plain": [
              "False"
            ]
          },
          "metadata": {},
          "execution_count": 16
        }
      ]
    },
    {
      "cell_type": "markdown",
      "source": [
        "Given two strings word1 and word2, return *the minimum number of **steps** required to make* word1 *and* word2 *the same*.\n",
        "\n",
        "In one **step**, you can delete exactly one character in either string.\n",
        "\n",
        "**Example 1:**\n",
        "\n",
        "**Input:** word1 = \"sea\", word2 = \"eat\"\n",
        "\n",
        "**Output:** 2\n",
        "\n",
        "**Explanation:** You need one step to make \"sea\" to \"ea\" and another step to make \"eat\" to \"ea\"."
      ],
      "metadata": {
        "id": "_fD62qUQvXdC"
      }
    },
    {
      "cell_type": "code",
      "source": [
        "def charnotpresent(s1,s2):#assuming chars are unique\n",
        "  a=set(s1)\n",
        "  b=set(s2)\n",
        "  c=a.intersection(b)\n",
        "  return len(c)\n",
        "charnotpresent(\"sea\",\"eat\")\n"
      ],
      "metadata": {
        "colab": {
          "base_uri": "https://localhost:8080/"
        },
        "id": "4DzhbKkRt3JU",
        "outputId": "fe90d473-abd1-4791-ba17-a2e586d04e81"
      },
      "execution_count": 17,
      "outputs": [
        {
          "output_type": "execute_result",
          "data": {
            "text/plain": [
              "2"
            ]
          },
          "metadata": {},
          "execution_count": 17
        }
      ]
    },
    {
      "cell_type": "markdown",
      "source": [
        "7.Given an encoded string, return its decoded string.\n",
        "\n",
        "The encoding rule is: k[encoded_string], where the encoded_string inside the square brackets is being repeated exactly k times. Note that k is guaranteed to be a positive integer.\n",
        "\n",
        "You may assume that the input string is always valid; there are no extra white spaces, square brackets are well-formed, etc. Furthermore, you may assume that the original data does not contain any digits and that digits are only for those repeat numbers, k. For example, there will not be input like 3a or 2[4].\n",
        "\n",
        "The test cases are generated so that the length of the output will never exceed 105.\n",
        "\n",
        "**Example 1:**\n",
        "\n",
        "**Input:** s = \"3[a]2[bc]\"\n",
        "\n",
        "**Output:** \"aaabcbc\"\n",
        "a=97\n",
        "z=122 \n",
        "0  48  9-57\n"
      ],
      "metadata": {
        "id": "vjw8D5IF0IXY"
      }
    },
    {
      "cell_type": "code",
      "source": [
        "print(ord('['))"
      ],
      "metadata": {
        "colab": {
          "base_uri": "https://localhost:8080/"
        },
        "id": "kl0RvVZnxVD1",
        "outputId": "7b952c38-aa5d-4bbe-f3b9-c64dbbee2757"
      },
      "execution_count": 23,
      "outputs": [
        {
          "output_type": "stream",
          "name": "stdout",
          "text": [
            "91\n"
          ]
        }
      ]
    },
    {
      "cell_type": "code",
      "source": [
        "def decodedstring(s):\n",
        "  \n",
        "  final=[]\n",
        "  i=0\n",
        "\n",
        "  while i<len(s):\n",
        "    if ord(s[i])>48 and ord(s[i])<=57:\n",
        "      count=int(s[i])\n",
        "      i+=2\n",
        "      a=[]\n",
        "      while s[i]!=']':\n",
        "        #print(s[i])\n",
        "        a.append(s[i])\n",
        "        i+=1\n",
        "      if s[i]==']':\n",
        "        final.extend(count*a)\n",
        "        i+=1\n",
        "  #print(final)\n",
        "  return final\n",
        "\n",
        "a=(decodedstring(\"3[a]2[bc]\"))\n",
        "b=\"\".join(a)\n",
        "print(b)\n",
        "\n",
        "\n",
        "  \n",
        "\n"
      ],
      "metadata": {
        "colab": {
          "base_uri": "https://localhost:8080/"
        },
        "id": "3EdA7CQ508lp",
        "outputId": "86e256b7-1f06-4bdb-d3e5-5decc2fbc2f6"
      },
      "execution_count": 40,
      "outputs": [
        {
          "output_type": "stream",
          "name": "stdout",
          "text": [
            "aaabcbc\n"
          ]
        }
      ]
    },
    {
      "cell_type": "markdown",
      "source": [
        "<aside>\n",
        "💡 **Question 5**\n",
        "\n",
        "Given an array of characters chars, compress it using the following algorithm:\n",
        "\n",
        "Begin with an empty string s. For each group of **consecutive repeating characters** in chars:\n",
        "\n",
        "- If the group's length is 1, append the character to s.\n",
        "- Otherwise, append the character followed by the group's length.\n",
        "\n",
        "The compressed string s **should not be returned separately**, but instead, be stored **in the input character array chars**.\n",
        "\n",
        "</aside>"
      ],
      "metadata": {
        "id": "CNxVZdua882I"
      }
    },
    {
      "cell_type": "code",
      "source": [
        "def compress(s):\n",
        "  i=0\n",
        "  e=[]\n",
        "  while i<len(s):\n",
        "    count=1\n",
        "    j=i\n",
        "    i+=1\n",
        "    #while(i<len(s)):\n",
        "    while (i<len(s) and s[i]==s[j] ):#first i<len(s) becoz it will not execute s[i]==s[j] when i>len(s) and it will prevent list index out of range error .In and logic is executed till it is false after that logics are not executed\n",
        "      count+=1\n",
        "      i+=1\n",
        "    #s[j+1]=count\n",
        "    e.append(s[j])\n",
        "    e.append(count)\n",
        "  return e\n",
        "compress( [\"a\",\"a\",\"b\",\"b\",\"c\",\"c\",\"c\"])\n"
      ],
      "metadata": {
        "colab": {
          "base_uri": "https://localhost:8080/"
        },
        "id": "8SSi3GHy26nC",
        "outputId": "db8c8242-3792-457f-a9d4-0de65416e6cc"
      },
      "execution_count": 57,
      "outputs": [
        {
          "output_type": "execute_result",
          "data": {
            "text/plain": [
              "['a', 2, 'b', 2, 'c', 3]"
            ]
          },
          "metadata": {},
          "execution_count": 57
        }
      ]
    },
    {
      "cell_type": "code",
      "source": [],
      "metadata": {
        "id": "6Cl3bxuV-L_h"
      },
      "execution_count": null,
      "outputs": []
    }
  ]
}