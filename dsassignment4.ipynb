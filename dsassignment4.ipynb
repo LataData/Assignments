{
  "nbformat": 4,
  "nbformat_minor": 0,
  "metadata": {
    "colab": {
      "provenance": [],
      "authorship_tag": "ABX9TyNbQEjB3AjxdqSfB+G+rm/N",
      "include_colab_link": true
    },
    "kernelspec": {
      "name": "python3",
      "display_name": "Python 3"
    },
    "language_info": {
      "name": "python"
    }
  },
  "cells": [
    {
      "cell_type": "markdown",
      "metadata": {
        "id": "view-in-github",
        "colab_type": "text"
      },
      "source": [
        "<a href=\"https://colab.research.google.com/github/LataData/Assignments/blob/main/dsassignment4.ipynb\" target=\"_parent\"><img src=\"https://colab.research.google.com/assets/colab-badge.svg\" alt=\"Open In Colab\"/></a>"
      ]
    },
    {
      "cell_type": "markdown",
      "source": [
        "<aside>\n",
        "💡 Given three integer arrays arr1, arr2 and arr3 **sorted** in **strictly increasing** order, return a sorted array of **only** the integers that appeared in **all** three arrays.\n",
        "\n",
        "**Example 1:**\n",
        "\n",
        "Input: arr1 = [1,2,3,4,5], arr2 = [1,2,5,7,9], arr3 = [1,3,4,5,8]\n",
        "\n",
        "Output: [1,5]\n",
        "\n",
        "</aside>"
      ],
      "metadata": {
        "id": "Ksa1JUeRKlPp"
      }
    },
    {
      "cell_type": "code",
      "source": [
        "def findcommon (a,b,c):\n",
        "  result=[]\n",
        "  for i in a:\n",
        "    if i in b and i in c:\n",
        "      result.append(i)\n",
        "  return result\n",
        "arr1 = [1,2,3,4,5]\n",
        "arr2 = [1,2,5,7,9]\n",
        "arr3 = [1,3,4,5,8]\n",
        "print(findcommon(arr1,arr2,arr3))"
      ],
      "metadata": {
        "colab": {
          "base_uri": "https://localhost:8080/"
        },
        "id": "g-daQFTPLHWq",
        "outputId": "c3e53041-4fdb-414c-b3d7-b123d5b4c1da"
      },
      "execution_count": 4,
      "outputs": [
        {
          "output_type": "stream",
          "name": "stdout",
          "text": [
            "[1, 5]\n"
          ]
        }
      ]
    },
    {
      "cell_type": "markdown",
      "source": [
        "Given two **0-indexed** integer arrays nums1 and nums2, return *a list* answer *of size* 2 *where:*\n",
        "\n",
        "- answer[0] *is a list of all **distinct** integers in* nums1 *which are **not** present in* nums2*.*\n",
        "- answer[1] *is a list of all **distinct** integers in* nums2 *which are **not** present in* nums1.\n",
        "\n",
        "**Note** that the integers in the lists may be returned in **any** order.\n",
        "\n",
        "**Example 1:**\n",
        "\n",
        "**Input:** nums1 = [1,2,3], nums2 = [2,4,6]\n",
        "\n",
        "**Output:** [[1,3],[4,6]]"
      ],
      "metadata": {
        "id": "GuUlZRo8MJrU"
      }
    },
    {
      "cell_type": "code",
      "source": [
        "def find(nums1,nums2):\n",
        "  a=[]\n",
        "  b=[]\n",
        "  answer=[]\n",
        "  for i in nums1:\n",
        "    if i not in nums2:\n",
        "     a.append(i)\n",
        "  for i in nums2:\n",
        "    if i not in nums1:\n",
        "     b.append(i)\n",
        "  answer.append(a)\n",
        "  answer.append(b)\n",
        "  return answer\n",
        "nums1 = [1,2,3]\n",
        "nums2 = [2,4,6]\n",
        "print(find(nums1,nums2))"
      ],
      "metadata": {
        "colab": {
          "base_uri": "https://localhost:8080/"
        },
        "id": "iLqHRPXBLkPv",
        "outputId": "c547f525-af3b-44da-bf61-f3a73387775f"
      },
      "execution_count": 7,
      "outputs": [
        {
          "output_type": "stream",
          "name": "stdout",
          "text": [
            "[[1, 3], [4, 6]]\n"
          ]
        }
      ]
    },
    {
      "cell_type": "markdown",
      "source": [
        "Given a 2D integer array matrix, return the transpose of matrix"
      ],
      "metadata": {
        "id": "pJK5aygoNJPM"
      }
    },
    {
      "cell_type": "code",
      "source": [
        "def transpose(a):\n",
        "  t=[[0 for _ in range(0,len(a)) ] for _ in range(0,len(a[0]))]\n",
        "  for i in range(0,len(a)):\n",
        "    for j in range(0,len(a[0])):\n",
        "      t[i][j]=a[j][i]\n",
        "  return t\n",
        "a= [[1,2,3],[4,5,6],[7,8,9]]\n",
        "print(transpose(a))\n",
        "    "
      ],
      "metadata": {
        "colab": {
          "base_uri": "https://localhost:8080/"
        },
        "id": "Ctm6mK_lM_6L",
        "outputId": "5bef38a7-4772-49c7-baff-3a37a1fba462"
      },
      "execution_count": 15,
      "outputs": [
        {
          "output_type": "stream",
          "name": "stdout",
          "text": [
            "[[1, 4, 7], [2, 5, 8], [3, 6, 9]]\n"
          ]
        }
      ]
    },
    {
      "cell_type": "markdown",
      "source": [
        "<aside>\n",
        "💡 **Question 8**\n",
        "\n",
        "Given the array nums consisting of 2n elements in the form [x1,x2,...,xn,y1,y2,...,yn].\n",
        "\n",
        "*Return the array in the form* [x1,y1,x2,y2,...,xn,yn].\n",
        "\n",
        "**Example 1:**\n",
        "\n",
        "**Input:** nums = [2,5,1,3,4,7], n = 3\n",
        "\n",
        "**Output:** [2,3,5,4,1,7]\n",
        "\n",
        "</aside>"
      ],
      "metadata": {
        "id": "B3CdqdmQVSP9"
      }
    },
    {
      "cell_type": "code",
      "source": [
        "def pair(a,n):\n",
        "  b=[]\n",
        "  i=0\n",
        "  j=n\n",
        "  k=0\n",
        "  while i<n:\n",
        "    \n",
        "     b.append(a[i])\n",
        "    \n",
        "     b.append(a[j])\n",
        "     i+=1\n",
        "     j+=1\n",
        "  return b\n",
        "nums = [2,5,1,3,4,7]\n",
        "n=3\n",
        "print(pair(nums,n))"
      ],
      "metadata": {
        "colab": {
          "base_uri": "https://localhost:8080/"
        },
        "id": "ir6ND0UWOiZU",
        "outputId": "064777e7-ad98-4d05-9678-d724fd8fa7a2"
      },
      "execution_count": 24,
      "outputs": [
        {
          "output_type": "stream",
          "name": "stdout",
          "text": [
            "[2, 3, 5, 4, 1, 7]\n"
          ]
        }
      ]
    },
    {
      "cell_type": "code",
      "source": [],
      "metadata": {
        "id": "QO3CRRtiY0WD"
      },
      "execution_count": null,
      "outputs": []
    }
  ]
}