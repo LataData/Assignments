{
  "nbformat": 4,
  "nbformat_minor": 0,
  "metadata": {
    "colab": {
      "provenance": [],
      "authorship_tag": "ABX9TyPdbdZ8Hsh2rFN1kbD38LXj",
      "include_colab_link": true
    },
    "kernelspec": {
      "name": "python3",
      "display_name": "Python 3"
    },
    "language_info": {
      "name": "python"
    }
  },
  "cells": [
    {
      "cell_type": "markdown",
      "metadata": {
        "id": "view-in-github",
        "colab_type": "text"
      },
      "source": [
        "<a href=\"https://colab.research.google.com/github/LataData/Assignments/blob/main/dsassignment10.ipynb\" target=\"_parent\"><img src=\"https://colab.research.google.com/assets/colab-badge.svg\" alt=\"Open In Colab\"/></a>"
      ]
    },
    {
      "cell_type": "markdown",
      "source": [
        "Given a string calculate length of the string using recursion."
      ],
      "metadata": {
        "id": "bpAa_7N3ridm"
      }
    },
    {
      "cell_type": "code",
      "source": [
        "def findlength(s):\n",
        "  if s=='':\n",
        "    return 0\n",
        "  return 1+findlength(s[1:])\n",
        "findlength(\"abc\")\n"
      ],
      "metadata": {
        "colab": {
          "base_uri": "https://localhost:8080/",
          "height": 0
        },
        "id": "R5S9gcCmrjrd",
        "outputId": "70b0cefd-2d11-433a-ca66-7ac1c4900d83"
      },
      "execution_count": 4,
      "outputs": [
        {
          "output_type": "execute_result",
          "data": {
            "text/plain": [
              "3"
            ]
          },
          "metadata": {},
          "execution_count": 4
        }
      ]
    },
    {
      "cell_type": "markdown",
      "source": [
        "Given an integer n, return true if it is a power of three. Otherwise, return false."
      ],
      "metadata": {
        "id": "VoVQ2n59ua-B"
      }
    },
    {
      "cell_type": "code",
      "source": [
        "def powerofthree(n):\n",
        "  if n==1:\n",
        "    return True\n",
        "  if n>1 and n%3!=0:\n",
        "    return False\n",
        "  return powerofthree(n/3)\n",
        "powerofthree(27)"
      ],
      "metadata": {
        "colab": {
          "base_uri": "https://localhost:8080/",
          "height": 0
        },
        "id": "lsmdAQbGtBA4",
        "outputId": "725bdaff-2893-4999-ad1f-8143d2cf7071"
      },
      "execution_count": 7,
      "outputs": [
        {
          "output_type": "execute_result",
          "data": {
            "text/plain": [
              "True"
            ]
          },
          "metadata": {},
          "execution_count": 7
        }
      ]
    },
    {
      "cell_type": "markdown",
      "source": [
        "Given a set represented as a string, write a recursive code to print all subsets of it. The subsets can be printed in any order."
      ],
      "metadata": {
        "id": "A1eCe6B-vSF_"
      }
    },
    {
      "cell_type": "code",
      "source": [
        "def printsubsets(s,l,r,final):\n",
        "  if l>r-1:\n",
        "    return final\n",
        "  #print(final)\n",
        "  return(printsubsets(s,l+1,r,final+s[l])) +\",\"+ (printsubsets(s,l+1,r,final))\n",
        "  \n",
        "  #return(printsubsets(s,l,r,final+\",\"))\n",
        "  print(final)\n",
        "printsubsets(\"abc\",0,3,'').split(\",\")"
      ],
      "metadata": {
        "colab": {
          "base_uri": "https://localhost:8080/",
          "height": 0
        },
        "id": "6Pa7kOI4u7kp",
        "outputId": "10df37c4-3fd6-4da5-fe65-027a4bcfbab5"
      },
      "execution_count": 44,
      "outputs": [
        {
          "output_type": "execute_result",
          "data": {
            "text/plain": [
              "['abc', 'ab', 'ac', 'a', 'bc', 'b', 'c', '']"
            ]
          },
          "metadata": {},
          "execution_count": 44
        }
      ]
    },
    {
      "cell_type": "markdown",
      "source": [
        " tower of Hanoi"
      ],
      "metadata": {
        "id": "43V0jve39N6T"
      }
    },
    {
      "cell_type": "code",
      "source": [
        "def TowerOfHanoi(n , start, final, auxiliary):\n",
        "    if n==1:\n",
        "        print (\"Move disk 1 from rod\",start,\"to rod\",final)\n",
        "        return\n",
        "    TowerOfHanoi(n-1, start, auxiliary, final)\n",
        "    print (\"Move disk\",n,\"from rod\",start,\"to rod\",final)\n",
        "    TowerOfHanoi(n-1, auxiliary, final, start)\n",
        "TowerOfHanoi(3,1,3,2)"
      ],
      "metadata": {
        "colab": {
          "base_uri": "https://localhost:8080/",
          "height": 0
        },
        "id": "TG9ckdhZ5ChD",
        "outputId": "bce0b307-aafb-4453-c64f-b3f2a8fdd182"
      },
      "execution_count": 46,
      "outputs": [
        {
          "output_type": "stream",
          "name": "stdout",
          "text": [
            "Move disk 1 from rod 1 to rod 3\n",
            "Move disk 2 from rod 1 to rod 2\n",
            "Move disk 1 from rod 3 to rod 2\n",
            "Move disk 3 from rod 1 to rod 3\n",
            "Move disk 1 from rod 2 to rod 1\n",
            "Move disk 2 from rod 2 to rod 3\n",
            "Move disk 1 from rod 1 to rod 3\n"
          ]
        }
      ]
    },
    {
      "cell_type": "code",
      "source": [],
      "metadata": {
        "id": "HoGDUnP-_GLQ"
      },
      "execution_count": null,
      "outputs": []
    }
  ]
}