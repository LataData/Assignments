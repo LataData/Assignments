{
  "nbformat": 4,
  "nbformat_minor": 0,
  "metadata": {
    "colab": {
      "provenance": [],
      "authorship_tag": "ABX9TyMl7O2Map8Q6n5QlSvbx0WV",
      "include_colab_link": true
    },
    "kernelspec": {
      "name": "python3",
      "display_name": "Python 3"
    },
    "language_info": {
      "name": "python"
    }
  },
  "cells": [
    {
      "cell_type": "markdown",
      "metadata": {
        "id": "view-in-github",
        "colab_type": "text"
      },
      "source": [
        "<a href=\"https://colab.research.google.com/github/LataData/Assignments/blob/main/dsasignment2.ipynb\" target=\"_parent\"><img src=\"https://colab.research.google.com/assets/colab-badge.svg\" alt=\"Open In Colab\"/></a>"
      ]
    },
    {
      "cell_type": "markdown",
      "source": [
        "Question 2\n",
        "Alice has n candies, where the ith candy is of type candyType[i]. Alice noticed that she started to gain weight, so she visited a doctor. \n",
        "\n",
        "The doctor advised Alice to only eat n / 2 of the candies she has (n is always even). Alice likes her candies very much, and she wants to eat the maximum number of different types of candies while still following the doctor's advice. \n",
        "\n",
        "Given the integer array candyType of length n, return the maximum number of different types of candies she can eat if she only eats n / 2 of them.\n",
        "\n",
        "Example 1:\n",
        "Input: candyType = [1,1,2,2,3,3]\n",
        "Output: 3\n",
        "\n",
        "Explanation: Alice can only eat 6 / 2 = 3 candies. Since there are only 3 types, she can eat one of each type."
      ],
      "metadata": {
        "id": "PyWbF6fXUMxv"
      }
    },
    {
      "cell_type": "code",
      "source": [
        "def finddsitinctcandy(a):\n",
        "  b=set(a)\n",
        "  n=len(a)\n",
        "  if len(b)>=(n//2):\n",
        "    return (n//2)\n",
        "  else:\n",
        "    return len(b)\n",
        "print(finddsitinctcandy([1,2,3,4]))\n",
        "\n"
      ],
      "metadata": {
        "colab": {
          "base_uri": "https://localhost:8080/"
        },
        "id": "bolYvvqNUQWl",
        "outputId": "8c75a968-a43c-4c09-c450-f2a455c17757"
      },
      "execution_count": 5,
      "outputs": [
        {
          "output_type": "stream",
          "name": "stdout",
          "text": [
            "2\n"
          ]
        }
      ]
    },
    {
      "cell_type": "code",
      "source": [
        "Question 3\n",
        "We define a harmonious array as an array where the difference between its maximum value\n",
        "and its minimum value is exactly 1.\n",
        "\n",
        "Given an integer array nums, return the length of its longest harmonious subsequence\n",
        "among all its possible subsequences.\n",
        "\n",
        "A subsequence of an array is a sequence that can be derived from the array by deleting some or no elements without changing the order of the remaining elements.\n",
        "\n",
        "Example 1:\n",
        "Input: nums = [1,3,2,2,5,2,3,7]\n",
        "Output: 5\n",
        "\n",
        "Explanation: The longest harmonious subsequence is [3,2,2,2,3]."
      ],
      "metadata": {
        "id": "5WTNRNnfU1t3"
      },
      "execution_count": null,
      "outputs": []
    },
    {
      "cell_type": "code",
      "source": [
        "def harmoniousarray (a):\n",
        "  maxcount=0\n",
        "  r=len(a)-1\n",
        "  for i in range(0,len(a)-1):\n",
        "    count=1\n",
        "    j=i+1\n",
        "    while j <= r:\n",
        "      if a[j]-a[i]==1 or a[j]-a[i]==-1 or a[j]-a[i]==0:\n",
        "        #print(a[j],\"aj\")\n",
        "        count+=1\n",
        "        j+=1\n",
        "      else:\n",
        "        j+=1\n",
        "    #print(count)\n",
        "    if count>maxcount:\n",
        "      maxcount=count\n",
        "  return maxcount\n",
        "print(harmoniousarray([1,3,2,2,5,2,3,7]))"
      ],
      "metadata": {
        "colab": {
          "base_uri": "https://localhost:8080/"
        },
        "id": "IkxMHkCZer3H",
        "outputId": "18967240-3562-47f5-829c-9d53fcbfbe7c"
      },
      "execution_count": 18,
      "outputs": [
        {
          "output_type": "stream",
          "name": "stdout",
          "text": [
            "5\n"
          ]
        }
      ]
    },
    {
      "cell_type": "markdown",
      "source": [
        "Question 4\n",
        "You have a long flowerbed in which some of the plots are planted, and some are not.\n",
        "However, flowers cannot be planted in adjacent plots.\n",
        "Given an integer array flowerbed containing 0's and 1's, where 0 means empty and 1 means not empty, and an integer n, return true if n new flowers can be planted in the flowerbed without violating the no-adjacent-flowers rule and false otherwise.\n",
        "\n",
        "Example 1:\n",
        "Input: flowerbed = [1,0,0,0,1], n = 1\n",
        "Output: true"
      ],
      "metadata": {
        "id": "B9wGs2pjlait"
      }
    },
    {
      "cell_type": "code",
      "source": [
        "def plantflower(a,totalflower):\n",
        "  r=len(a)-1\n",
        "  filled=0\n",
        "  for i in range(0,len(a)):\n",
        "    if a[i]==0 and filled==0:\n",
        "      if i+1<=r and a[i+1]!=1:\n",
        "       totalflower-=1\n",
        "      if i==r:\n",
        "         totalflower-=1\n",
        "\n",
        "    elif a[i]==1:\n",
        "      filled=1\n",
        "    elif a[i]==0 and filled==1:\n",
        "      filled=0\n",
        "  return totalflower\n",
        "if (plantflower([1,0,0,0,1],1))==0:\n",
        "  print(\"true\")\n",
        "else:\n",
        "  print(\"false\")\n",
        "\n",
        "    \n",
        "    \n"
      ],
      "metadata": {
        "colab": {
          "base_uri": "https://localhost:8080/"
        },
        "id": "46hVrMhZhcd7",
        "outputId": "4761d25d-596d-4360-8ae6-a01bae3f49e2"
      },
      "execution_count": 24,
      "outputs": [
        {
          "output_type": "stream",
          "name": "stdout",
          "text": [
            "true\n"
          ]
        }
      ]
    },
    {
      "cell_type": "markdown",
      "source": [
        "An array is monotonic if it is either monotone increasing or monotone decreasing.\n",
        "\n",
        "An array nums is monotone increasing if for all i <= j, nums[i] <= nums[j]. An array nums is\n",
        "monotone decreasing if for all i <= j, nums[i] >= nums[j].\n",
        "\n",
        "Given an integer array nums, return true if the given array is monotonic, or false otherwise.\n",
        "\n",
        "Example 1:\n",
        "Input: nums = [1,2,2,3]\n",
        "Output: true"
      ],
      "metadata": {
        "id": "vKgAW7mHwsVB"
      }
    },
    {
      "cell_type": "code",
      "source": [
        "\n",
        "def monotonic(a):\n",
        "  if len(a)==1:\n",
        "    return True\n",
        "  i=0\n",
        "  flagmax=False\n",
        "  flagmin=False\n",
        "  while i<len(a)-1:\n",
        "    if a[i]>a[i+1]:\n",
        "      flagmax=True\n",
        "      break\n",
        "    if a[i]<a[i+1]:\n",
        "      flagmin=True\n",
        "      break\n",
        "    i+=1\n",
        "  \n",
        "  for i in range(0,len(a)-1):\n",
        "    if flagmax:\n",
        "      if a[i]<a[i+1]:\n",
        "        return False\n",
        "    if flagmin:\n",
        "      if a[i]>a[i+1]:\n",
        "        return False\n",
        "  return True\n",
        "print(monotonic([5,2,1]))"
      ],
      "metadata": {
        "colab": {
          "base_uri": "https://localhost:8080/"
        },
        "id": "wpAZ3f_MrqZK",
        "outputId": "dcb7e35d-f824-4544-8866-7c02ac871cff"
      },
      "execution_count": 32,
      "outputs": [
        {
          "output_type": "stream",
          "name": "stdout",
          "text": [
            "True\n"
          ]
        }
      ]
    },
    {
      "cell_type": "code",
      "source": [],
      "metadata": {
        "id": "svZY6lYDzoKM"
      },
      "execution_count": null,
      "outputs": []
    }
  ]
}