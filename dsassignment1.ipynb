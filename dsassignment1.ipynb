{
  "nbformat": 4,
  "nbformat_minor": 0,
  "metadata": {
    "colab": {
      "provenance": [],
      "authorship_tag": "ABX9TyPmgogGX4+Thc+nF/CkPUdh",
      "include_colab_link": true
    },
    "kernelspec": {
      "name": "python3",
      "display_name": "Python 3"
    },
    "language_info": {
      "name": "python"
    }
  },
  "cells": [
    {
      "cell_type": "markdown",
      "metadata": {
        "id": "view-in-github",
        "colab_type": "text"
      },
      "source": [
        "<a href=\"https://colab.research.google.com/github/LataData/Assignments/blob/main/dsassignment1.ipynb\" target=\"_parent\"><img src=\"https://colab.research.google.com/assets/colab-badge.svg\" alt=\"Open In Colab\"/></a>"
      ]
    },
    {
      "cell_type": "markdown",
      "source": [
        "<aside>\n",
        "💡 **Q1.** Given an array of integers nums and an integer target, return indices of the two numbers such that they add up to target.\n",
        "\n",
        "You may assume that each input would have exactly one solution, and you may not use the same element twice.\n",
        "\n",
        "You can return the answer in any order.\n",
        "\n",
        "</aside>"
      ],
      "metadata": {
        "id": "Jq11VB6sOcTF"
      }
    },
    {
      "cell_type": "code",
      "source": [
        "def findsum(a,sum):\n",
        "  l=0\n",
        "  r=len(a)-1\n",
        "  #print(r,sum,\"r\",\"sum\")\n",
        "  result=[]\n",
        "  while l<r:\n",
        "    #print(a[l],a[r],a[l]+a[r],\"list\")\n",
        "    p=a[l]+a[r]\n",
        "    #print(p>sum)\n",
        "    if p==sum:\n",
        "      result.append(l)\n",
        "      result.append(r)\n",
        "      #print(result)\n",
        "      return result\n",
        "    elif p>sum:\n",
        "      #print(\"hi\")\n",
        "      if r-1>l:\n",
        "       #print(\"more\")\n",
        "       r-=1\n",
        "       continue\n",
        "      else:\n",
        "        return False\n",
        "      \n",
        "    \n",
        "    elif p<sum:\n",
        "      #print(l+1<r,\"less\")\n",
        "      if l+1<r:\n",
        "       l+=1\n",
        "       #print(\"less\")\n",
        "       continue\n",
        "      else:\n",
        "        return False\n",
        "  return result  \n",
        "  \n",
        "   \n",
        "\n",
        "print(findsum([4,42,7],49))\n",
        "      \n",
        "      \n",
        "\n"
      ],
      "metadata": {
        "colab": {
          "base_uri": "https://localhost:8080/"
        },
        "id": "vGEsH73BOiNh",
        "outputId": "1b28c8be-eb41-4f74-c3a4-72332c36b248"
      },
      "execution_count": 84,
      "outputs": [
        {
          "output_type": "stream",
          "name": "stdout",
          "text": [
            "[1, 2]\n"
          ]
        }
      ]
    },
    {
      "cell_type": "markdown",
      "source": [
        "<aside>\n",
        "💡 **Q2.** Given an integer array nums and an integer val, remove all occurrences of val in nums in-place. The order of the elements may be changed. Then return the number of elements in nums which are not equal to val.\n",
        "\n",
        "Consider the number of elements in nums which are not equal to val be k, to get accepted, you need to do the following things:\n",
        "\n",
        "- Change the array nums such that the first k elements of nums contain the elements which are not equal to val. The remaining elements of nums are not important as well as the size of nums.\n",
        "- Return k.\n",
        "\n",
        "**Example :**\n",
        "Input: nums = [3,2,2,3], val = 3\n",
        "Output: 2, nums = [2,2,_*,_*]\n",
        "\n",
        "</aside>"
      ],
      "metadata": {
        "id": "Kw70X37wnvZK"
      }
    },
    {
      "cell_type": "code",
      "source": [
        "def removeall(a,val):\n",
        "  l=0\n",
        "  r=len(a)-1\n",
        "  while l<r:\n",
        "    if a[l]==val and a[r]==val:\n",
        "      a[r]='*'\n",
        "      r=r-1\n",
        "      #print(a)\n",
        "      continue\n",
        "    if a[l]==val and a[r]!=val:\n",
        "      a[l]=a[r]\n",
        "      a[r]='*'\n",
        "      l=l+1\n",
        "      r=r-1\n",
        "      #print(a)\n",
        "      continue\n",
        "    if a[r]==val and a[l]!=val:\n",
        "      \n",
        "       r=r-1\n",
        "       l=l+1\n",
        "       continue\n",
        "  \n",
        "  return a\n",
        "a=removeall([3,2,3],3)\n",
        "print(a)\n",
        "count=0\n",
        "for i in a:\n",
        "  if i!='*':\n",
        "    count+=1\n",
        "print(count)\n",
        "\n",
        "\n",
        "\n",
        "\n"
      ],
      "metadata": {
        "colab": {
          "base_uri": "https://localhost:8080/"
        },
        "id": "uacTSVAHdtXa",
        "outputId": "cf304caf-eacc-40f9-fb30-911377700d25"
      },
      "execution_count": 53,
      "outputs": [
        {
          "output_type": "stream",
          "name": "stdout",
          "text": [
            "[2, '*', '*']\n",
            "1\n"
          ]
        }
      ]
    },
    {
      "cell_type": "markdown",
      "source": [
        "<aside>\n",
        "💡 **Q3.** Given a sorted array of distinct integers and a target value, return the index if the target is found. If not, return the index where it would be if it were inserted in order.\n",
        "\n",
        "You must write an algorithm with O(log n) runtime complexity.\n",
        "\n",
        "**Example 1:**\n",
        "Input: nums = [1,3,5,6], target = 5\n",
        "\n",
        "Output: 2\n",
        "\n",
        "</aside>"
      ],
      "metadata": {
        "id": "7d6OAlFZ21im"
      }
    },
    {
      "cell_type": "code",
      "source": [
        "def findtarget(a,target):\n",
        "  l=0\n",
        "  r=len(a)-1\n",
        "  while l<r:\n",
        "    mid=(l+r+1)//2\n",
        "    print(\"mid\",mid)\n",
        "    if a[mid]==target:\n",
        "      return mid\n",
        "    if a[mid]<target:\n",
        "      l=mid\n",
        "      continue\n",
        "    if a[mid]>target:\n",
        "      r=mid\n",
        "  return mid\n",
        "print(findtarget([1,3,5,6],3))"
      ],
      "metadata": {
        "colab": {
          "base_uri": "https://localhost:8080/"
        },
        "id": "iZFPhZ07ticD",
        "outputId": "373c929d-246a-40dc-ddb7-c622bc69f73b"
      },
      "execution_count": 68,
      "outputs": [
        {
          "output_type": "stream",
          "name": "stdout",
          "text": [
            "mid 2\n",
            "mid 1\n",
            "1\n"
          ]
        }
      ]
    },
    {
      "cell_type": "markdown",
      "source": [
        "<aside>\n",
        "💡 **Q6.** Given an integer array nums, return true if any value appears at least twice in the array, and return false if every element is distinct.\n",
        "\n",
        "**Example 1:**\n",
        "Input: nums = [1,2,3,1]\n",
        "\n",
        "Output: true\n",
        "\n",
        "</aside>"
      ],
      "metadata": {
        "id": "x-0Lgf3o7x_5"
      }
    },
    {
      "cell_type": "code",
      "source": [
        "def finddistinct (a):\n",
        "  b=set(a)\n",
        "  if len(a)>=len(b):\n",
        "    return True\n",
        "  else:\n",
        "    return False\n",
        "print(finddistinct([1,2,2,3]))"
      ],
      "metadata": {
        "colab": {
          "base_uri": "https://localhost:8080/"
        },
        "id": "klfRB1vI6Z-d",
        "outputId": "7f28687a-1fa8-4fc1-f2e7-1eb7603e7ecd"
      },
      "execution_count": 66,
      "outputs": [
        {
          "output_type": "stream",
          "name": "stdout",
          "text": [
            "True\n"
          ]
        }
      ]
    },
    {
      "cell_type": "markdown",
      "source": [
        "<aside>\n",
        "💡 **Q7.** Given an integer array nums, move all 0's to the end of it while maintaining the relative order of the nonzero elements.\n",
        "\n",
        "Note that you must do this in-place without making a copy of the array.\n",
        "\n",
        "**Example 1:**\n",
        "Input: nums = [0,1,0,3,12]\n",
        "Output: [1,3,12,0,0]\n",
        "\n",
        "</aside>"
      ],
      "metadata": {
        "id": "akpTExuL9Pd7"
      }
    },
    {
      "cell_type": "code",
      "source": [
        "def sortinplace(a):\n",
        "  ptr0 =0\n",
        "\n",
        "  curr=0\n",
        "  while curr<len(a):\n",
        "    if a[ptr0]==0 and a[curr]==0:\n",
        "      curr+=1\n",
        "      continue\n",
        "    if a[curr]!=0 and ptr0!=curr:\n",
        "      \n",
        "      a[ptr0]=a[curr]\n",
        "      a[curr]=0\n",
        "      curr+=1\n",
        "      ptr0+=1\n",
        "      continue\n",
        "    if a[ptr0]!=0:\n",
        "      ptr0+=1\n",
        "      curr+=1\n",
        "      continue\n",
        "    if a[curr]==0 and ptr0!=curr:\n",
        "      curr+=1\n",
        "      continue\n",
        "\n",
        "\n",
        "  return a\n",
        "print(sortinplace([0,0,3,12,0]))\n",
        "    \n"
      ],
      "metadata": {
        "colab": {
          "base_uri": "https://localhost:8080/"
        },
        "id": "JqnT7zdL8SbU",
        "outputId": "d8b5d302-b8db-462c-8f94-10335c9064aa"
      },
      "execution_count": 75,
      "outputs": [
        {
          "output_type": "stream",
          "name": "stdout",
          "text": [
            "[3, 12, 0, 0, 0]\n"
          ]
        }
      ]
    },
    {
      "cell_type": "markdown",
      "source": [
        "<aside>\n",
        "💡 **Q8.** You have a set of integers s, which originally contains all the numbers from 1 to n. Unfortunately, due to some error, one of the numbers in s got duplicated to another number in the set, which results in repetition of one number and loss of another number.\n",
        "\n",
        "You are given an integer array nums representing the data status of this set after the error.\n",
        "\n",
        "Find the number that occurs twice and the number that is missing and return them in the form of an array.\n",
        "\n",
        "**Example 1:**\n",
        "Input: nums = [1,2,2,4]\n",
        "Output: [2,3]\n",
        "\n",
        "</aside>"
      ],
      "metadata": {
        "id": "rD8difSqH81v"
      }
    },
    {
      "cell_type": "code",
      "source": [
        " def findduplicate(a):\n",
        "  b=set(a)\n",
        "  length=len(a)\n",
        "  result=[]\n",
        "  for i in range(0,length):\n",
        "    \n",
        "    if i<length-1 and a[i]==a[i+1]:\n",
        "      result.append(a[i])\n",
        "    if (i+1) not in b:\n",
        "      result.append(i+1)\n",
        "  return result\n",
        "print(findduplicate([1,2,3,4,4]))\n",
        "\n",
        "\n"
      ],
      "metadata": {
        "colab": {
          "base_uri": "https://localhost:8080/"
        },
        "id": "4ArPvV1yCmFy",
        "outputId": "0fb19815-93f7-4ec0-cd4c-ecb952d88618"
      },
      "execution_count": 83,
      "outputs": [
        {
          "output_type": "stream",
          "name": "stdout",
          "text": [
            "[4, 5]\n"
          ]
        }
      ]
    },
    {
      "cell_type": "code",
      "source": [],
      "metadata": {
        "id": "qi5WnznKJR7R"
      },
      "execution_count": null,
      "outputs": []
    }
  ]
}