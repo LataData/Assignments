{
  "nbformat": 4,
  "nbformat_minor": 0,
  "metadata": {
    "colab": {
      "provenance": [],
      "authorship_tag": "ABX9TyMCvLSa1UyD97wD2eoPsNIS",
      "include_colab_link": true
    },
    "kernelspec": {
      "name": "python3",
      "display_name": "Python 3"
    },
    "language_info": {
      "name": "python"
    }
  },
  "cells": [
    {
      "cell_type": "markdown",
      "metadata": {
        "id": "view-in-github",
        "colab_type": "text"
      },
      "source": [
        "<a href=\"https://colab.research.google.com/github/LataData/Assignments/blob/main/Linkedlist.ipynb\" target=\"_parent\"><img src=\"https://colab.research.google.com/assets/colab-badge.svg\" alt=\"Open In Colab\"/></a>"
      ]
    },
    {
      "cell_type": "markdown",
      "source": [
        "Given a singly linked list, delete middle of the linked list. For example, if given linked list is 1->2->3->4->5 then linked list should be modified to 1->2->4->5.If there are even nodes, then there would be two middle nodes, we need to delete the second middle element. For example, if given linked list is 1->2->3->4->5->6 then it should be modified to 1->2->3->5->6.If the input linked list is NULL or has 1 node, then it should return NULL"
      ],
      "metadata": {
        "id": "R_sJlVy9YrBW"
      }
    },
    {
      "cell_type": "code",
      "source": [
        "class node:\n",
        "  def __init__(self,val):\n",
        "    self.val=val\n",
        "    self.next=None\n",
        "  def deletemiddle(self):\n",
        "    if self==None or self.next==None:\n",
        "      return False\n",
        "    slow=self\n",
        "    fast=self\n",
        "    while  fast!=None and fast.next!=None :\n",
        "      fast=fast.next.next\n",
        "      slow=slow.next\n",
        "    slow.val=slow.next.val\n",
        "    slow.next=slow.next.next\n",
        "    slow=self\n",
        "    while(slow!=None):\n",
        "      print (slow.val)\n",
        "      slow=slow.next\n",
        "\n",
        "n1=node(1)\n",
        "n2=node(2)\n",
        "n1.next=n2\n",
        "n3=node(3)\n",
        "n2.next=n3\n",
        "n4=node(5)\n",
        "n3.next=n4\n",
        "n5=node(6)\n",
        "n4.next=n5\n",
        "n6=node(7)\n",
        "n5.next=n6\n",
        "n1.deletemiddle()\n"
      ],
      "metadata": {
        "colab": {
          "base_uri": "https://localhost:8080/"
        },
        "id": "luoXjQFOY20K",
        "outputId": "85eb1fb8-75c1-4c5e-99cb-41c0a2adc0ed"
      },
      "execution_count": 14,
      "outputs": [
        {
          "output_type": "stream",
          "name": "stdout",
          "text": [
            "1\n",
            "2\n",
            "3\n",
            "6\n",
            "7\n"
          ]
        }
      ]
    },
    {
      "cell_type": "markdown",
      "source": [
        "2.Given a linked list of N nodes. The task is to check if the linked list has a loop. Linked list can contain self loop."
      ],
      "metadata": {
        "id": "S4tyLP2agwyw"
      }
    },
    {
      "cell_type": "code",
      "source": [
        "class node:\n",
        "  def __init__(self,val):\n",
        "    self.val=val\n",
        "    self.next=None\n",
        "  def detectloop(self):\n",
        "    slow=self\n",
        "    fast=self\n",
        "    while fast!=None and fast.next!=None:\n",
        "      slow=slow.next\n",
        "      fast=fast.next.next\n",
        "      if slow==fast:\n",
        "        return True\n",
        "    return False\n",
        "n1=node(1)\n",
        "n2=node(2)\n",
        "n1.next=n2\n",
        "n3=node(3)\n",
        "n2.next=n3\n",
        "n4=node(5)\n",
        "n3.next=n4\n",
        "n5=node(6)\n",
        "n4.next=n5\n",
        "n6=node(7)\n",
        "n5.next=n6\n",
        "n6.next=n2\n",
        "n1.detectloop()"
      ],
      "metadata": {
        "colab": {
          "base_uri": "https://localhost:8080/"
        },
        "id": "AZgHCYxWcwxF",
        "outputId": "52b8ce23-2eee-4f55-af0e-3bef913d3c46"
      },
      "execution_count": 20,
      "outputs": [
        {
          "output_type": "execute_result",
          "data": {
            "text/plain": [
              "True"
            ]
          },
          "metadata": {},
          "execution_count": 20
        }
      ]
    },
    {
      "cell_type": "markdown",
      "source": [
        "Given a linked list consisting of L nodes and given a number N. The task is to find the Nth node from the end of the linked list."
      ],
      "metadata": {
        "id": "MlhGHeIK5CG0"
      }
    },
    {
      "cell_type": "code",
      "source": [
        "class node:\n",
        "  def __init__(self,val):\n",
        "    self.val=val\n",
        "    self.next=None\n",
        "  def detectnode(self,n):\n",
        "    slow=self\n",
        "    fast=self\n",
        "    for i in range(0,n):\n",
        "      fast=fast.next\n",
        "    while fast!=None :\n",
        "      slow=slow.next\n",
        "      fast=fast.next\n",
        "    return slow.val\n",
        "n1=node(1)\n",
        "n2=node(2)\n",
        "n1.next=n2\n",
        "n3=node(3)\n",
        "n2.next=n3\n",
        "n4=node(5)\n",
        "n3.next=n4\n",
        "n5=node(6)\n",
        "n4.next=n5\n",
        "n6=node(7)\n",
        "n5.next=n6\n",
        "#n6.next=n2\n",
        "n1.detectnode(2)\n"
      ],
      "metadata": {
        "colab": {
          "base_uri": "https://localhost:8080/"
        },
        "id": "FCg6OErj3GMC",
        "outputId": "003d8ec9-8126-4eaf-9a15-7fe75e53bbae"
      },
      "execution_count": 23,
      "outputs": [
        {
          "output_type": "execute_result",
          "data": {
            "text/plain": [
              "6"
            ]
          },
          "metadata": {},
          "execution_count": 23
        }
      ]
    },
    {
      "cell_type": "markdown",
      "source": [
        "Remove the loop from the linked list, if it is present, i.e. unlink the last node which is forming the loop."
      ],
      "metadata": {
        "id": "qbRCkqWt7PYY"
      }
    },
    {
      "cell_type": "code",
      "source": [
        "class node:\n",
        "  def __init__(self,val):\n",
        "    self.val=val\n",
        "    self.next=None\n",
        "  def unlinkloop(self,slow):\n",
        "    head=self\n",
        "    head1=self\n",
        "    prev=head\n",
        "    while slow!=head:\n",
        "      slow=slow.next\n",
        "      #prev=head\n",
        "      head=head.next\n",
        "      #print(prev.val,head.val,slow.val)\n",
        "\n",
        "    head.next=None\n",
        "    while head1.next!=None:\n",
        "      print(head1.val)\n",
        "      head1=head1.next\n",
        "  def detectloop(self):\n",
        "    slow=self\n",
        "    fast=self\n",
        "    while fast!=None and fast.next!=None:\n",
        "      slow=slow.next\n",
        "      fast=fast.next.next\n",
        "      if slow==fast:\n",
        "        print(\"loop \")\n",
        "        self.unlinkloop(slow)\n",
        "\n",
        "\n",
        "\n",
        "\n",
        "n1=node(1)\n",
        "n2=node(2)\n",
        "n1.next=n2\n",
        "n3=node(3)\n",
        "n2.next=n3\n",
        "n4=node(5)\n",
        "n3.next=n4\n",
        "n5=node(6)\n",
        "n4.next=n5\n",
        "n6=node(7)\n",
        "n5.next=n6\n",
        "n6.next=n3\n",
        "n1.detectloop()"
      ],
      "metadata": {
        "colab": {
          "base_uri": "https://localhost:8080/"
        },
        "id": "BhL9Q06159xs",
        "outputId": "5c899a50-85f5-47d1-985e-219808e5954b"
      },
      "execution_count": 50,
      "outputs": [
        {
          "output_type": "stream",
          "name": "stdout",
          "text": [
            "loop \n",
            "1\n",
            "2\n"
          ]
        }
      ]
    },
    {
      "cell_type": "code",
      "source": [],
      "metadata": {
        "id": "Yueqkmfn-4BI"
      },
      "execution_count": null,
      "outputs": []
    }
  ]
}